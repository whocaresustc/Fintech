{
 "cells": [
  {
   "cell_type": "markdown",
   "metadata": {},
   "source": [
    "# Lending Club EDA"
   ]
  },
  {
   "cell_type": "code",
   "execution_count": 1,
   "metadata": {
    "collapsed": true
   },
   "outputs": [],
   "source": [
    "import pandas as pd\n",
    "import numpy as np\n",
    "import matplotlib.pyplot as plt\n",
    "%matplotlib inline\n",
    "import seaborn as sns"
   ]
  },
  {
   "cell_type": "markdown",
   "metadata": {},
   "source": [
    "## Loan_2014 data"
   ]
  },
  {
   "cell_type": "code",
   "execution_count": 2,
   "metadata": {},
   "outputs": [
    {
     "name": "stderr",
     "output_type": "stream",
     "text": [
      "C:\\Users\\Weiqun\\Anaconda2\\lib\\site-packages\\IPython\\core\\interactiveshell.py:2723: DtypeWarning: Columns (29,55) have mixed types. Specify dtype option on import or set low_memory=False.\n",
      "  interactivity=interactivity, compiler=compiler, result=result)\n"
     ]
    }
   ],
   "source": [
    "df = pd.read_csv('loan_2014.csv') "
   ]
  },
  {
   "cell_type": "code",
   "execution_count": 3,
   "metadata": {
    "collapsed": true
   },
   "outputs": [],
   "source": [
    "cols=df.columns.values"
   ]
  },
  {
   "cell_type": "markdown",
   "metadata": {},
   "source": [
    "## Last two rows are invalid"
   ]
  },
  {
   "cell_type": "code",
   "execution_count": 4,
   "metadata": {},
   "outputs": [
    {
     "data": {
      "text/html": [
       "<div>\n",
       "<table border=\"1\" class=\"dataframe\">\n",
       "  <thead>\n",
       "    <tr style=\"text-align: right;\">\n",
       "      <th></th>\n",
       "      <th>bcopentobuy</th>\n",
       "      <th>initialliststatus</th>\n",
       "      <th>numactvbctl</th>\n",
       "      <th>grade</th>\n",
       "      <th>mthssincelastrecord</th>\n",
       "      <th>totcurbal</th>\n",
       "      <th>totalbalexmort</th>\n",
       "      <th>subgrade</th>\n",
       "      <th>mosinrcnttl</th>\n",
       "      <th>inqlast12m</th>\n",
       "      <th>...</th>\n",
       "      <th>numrevtlbalgt0</th>\n",
       "      <th>totalcutl</th>\n",
       "      <th>mthssincelastmajorderog</th>\n",
       "      <th>numtloppast12m</th>\n",
       "      <th>percentbcgt75</th>\n",
       "      <th>pubrecbankruptcies</th>\n",
       "      <th>ilutil</th>\n",
       "      <th>purpose</th>\n",
       "      <th>issued</th>\n",
       "      <th>loanstatus</th>\n",
       "    </tr>\n",
       "  </thead>\n",
       "  <tbody>\n",
       "    <tr>\n",
       "      <th>235626</th>\n",
       "      <td>36402.0</td>\n",
       "      <td>w</td>\n",
       "      <td>2.0</td>\n",
       "      <td>A</td>\n",
       "      <td>NaN</td>\n",
       "      <td>591610.0</td>\n",
       "      <td>50896.0</td>\n",
       "      <td>A4</td>\n",
       "      <td>5.0</td>\n",
       "      <td>NaN</td>\n",
       "      <td>...</td>\n",
       "      <td>3.0</td>\n",
       "      <td>NaN</td>\n",
       "      <td>NaN</td>\n",
       "      <td>4.0</td>\n",
       "      <td>11.1</td>\n",
       "      <td>0.0</td>\n",
       "      <td>NaN</td>\n",
       "      <td>credit_card</td>\n",
       "      <td>Jan-2014</td>\n",
       "      <td>Fully Paid</td>\n",
       "    </tr>\n",
       "    <tr>\n",
       "      <th>235627</th>\n",
       "      <td>1822.0</td>\n",
       "      <td>f</td>\n",
       "      <td>1.0</td>\n",
       "      <td>D</td>\n",
       "      <td>NaN</td>\n",
       "      <td>73598.0</td>\n",
       "      <td>73598.0</td>\n",
       "      <td>D1</td>\n",
       "      <td>19.0</td>\n",
       "      <td>NaN</td>\n",
       "      <td>...</td>\n",
       "      <td>2.0</td>\n",
       "      <td>NaN</td>\n",
       "      <td>NaN</td>\n",
       "      <td>0.0</td>\n",
       "      <td>100.0</td>\n",
       "      <td>0.0</td>\n",
       "      <td>NaN</td>\n",
       "      <td>debt_consolidation</td>\n",
       "      <td>Jan-2014</td>\n",
       "      <td>Current</td>\n",
       "    </tr>\n",
       "    <tr>\n",
       "      <th>235628</th>\n",
       "      <td>2175.0</td>\n",
       "      <td>f</td>\n",
       "      <td>2.0</td>\n",
       "      <td>D</td>\n",
       "      <td>NaN</td>\n",
       "      <td>57477.0</td>\n",
       "      <td>57477.0</td>\n",
       "      <td>D3</td>\n",
       "      <td>4.0</td>\n",
       "      <td>NaN</td>\n",
       "      <td>...</td>\n",
       "      <td>2.0</td>\n",
       "      <td>NaN</td>\n",
       "      <td>NaN</td>\n",
       "      <td>2.0</td>\n",
       "      <td>50.0</td>\n",
       "      <td>0.0</td>\n",
       "      <td>NaN</td>\n",
       "      <td>other</td>\n",
       "      <td>Jan-2014</td>\n",
       "      <td>Fully Paid</td>\n",
       "    </tr>\n",
       "    <tr>\n",
       "      <th>235629</th>\n",
       "      <td>NaN</td>\n",
       "      <td>NaN</td>\n",
       "      <td>NaN</td>\n",
       "      <td>NaN</td>\n",
       "      <td>NaN</td>\n",
       "      <td>NaN</td>\n",
       "      <td>NaN</td>\n",
       "      <td>NaN</td>\n",
       "      <td>NaN</td>\n",
       "      <td>NaN</td>\n",
       "      <td>...</td>\n",
       "      <td>NaN</td>\n",
       "      <td>NaN</td>\n",
       "      <td>NaN</td>\n",
       "      <td>NaN</td>\n",
       "      <td>NaN</td>\n",
       "      <td>NaN</td>\n",
       "      <td>NaN</td>\n",
       "      <td>NaN</td>\n",
       "      <td>NaN</td>\n",
       "      <td>NaN</td>\n",
       "    </tr>\n",
       "    <tr>\n",
       "      <th>235630</th>\n",
       "      <td>NaN</td>\n",
       "      <td>NaN</td>\n",
       "      <td>NaN</td>\n",
       "      <td>NaN</td>\n",
       "      <td>NaN</td>\n",
       "      <td>NaN</td>\n",
       "      <td>NaN</td>\n",
       "      <td>NaN</td>\n",
       "      <td>NaN</td>\n",
       "      <td>NaN</td>\n",
       "      <td>...</td>\n",
       "      <td>NaN</td>\n",
       "      <td>NaN</td>\n",
       "      <td>NaN</td>\n",
       "      <td>NaN</td>\n",
       "      <td>NaN</td>\n",
       "      <td>NaN</td>\n",
       "      <td>NaN</td>\n",
       "      <td>NaN</td>\n",
       "      <td>NaN</td>\n",
       "      <td>NaN</td>\n",
       "    </tr>\n",
       "  </tbody>\n",
       "</table>\n",
       "<p>5 rows × 95 columns</p>\n",
       "</div>"
      ],
      "text/plain": [
       "        bcopentobuy initialliststatus  numactvbctl grade  mthssincelastrecord  \\\n",
       "235626      36402.0                 w          2.0     A                  NaN   \n",
       "235627       1822.0                 f          1.0     D                  NaN   \n",
       "235628       2175.0                 f          2.0     D                  NaN   \n",
       "235629          NaN               NaN          NaN   NaN                  NaN   \n",
       "235630          NaN               NaN          NaN   NaN                  NaN   \n",
       "\n",
       "        totcurbal  totalbalexmort subgrade  mosinrcnttl  inqlast12m  \\\n",
       "235626   591610.0         50896.0       A4          5.0         NaN   \n",
       "235627    73598.0         73598.0       D1         19.0         NaN   \n",
       "235628    57477.0         57477.0       D3          4.0         NaN   \n",
       "235629        NaN             NaN      NaN          NaN         NaN   \n",
       "235630        NaN             NaN      NaN          NaN         NaN   \n",
       "\n",
       "           ...      numrevtlbalgt0  totalcutl  mthssincelastmajorderog  \\\n",
       "235626     ...                 3.0        NaN                      NaN   \n",
       "235627     ...                 2.0        NaN                      NaN   \n",
       "235628     ...                 2.0        NaN                      NaN   \n",
       "235629     ...                 NaN        NaN                      NaN   \n",
       "235630     ...                 NaN        NaN                      NaN   \n",
       "\n",
       "        numtloppast12m  percentbcgt75  pubrecbankruptcies  ilutil  \\\n",
       "235626             4.0           11.1                 0.0     NaN   \n",
       "235627             0.0          100.0                 0.0     NaN   \n",
       "235628             2.0           50.0                 0.0     NaN   \n",
       "235629             NaN            NaN                 NaN     NaN   \n",
       "235630             NaN            NaN                 NaN     NaN   \n",
       "\n",
       "                   purpose    issued  loanstatus  \n",
       "235626         credit_card  Jan-2014  Fully Paid  \n",
       "235627  debt_consolidation  Jan-2014     Current  \n",
       "235628               other  Jan-2014  Fully Paid  \n",
       "235629                 NaN       NaN         NaN  \n",
       "235630                 NaN       NaN         NaN  \n",
       "\n",
       "[5 rows x 95 columns]"
      ]
     },
     "execution_count": 4,
     "metadata": {},
     "output_type": "execute_result"
    }
   ],
   "source": [
    "df.tail()"
   ]
  },
  {
   "cell_type": "markdown",
   "metadata": {},
   "source": [
    "## 19 object, 76 numeric (but 18 of them are all Nulls, 13 of them have Nulls)"
   ]
  },
  {
   "cell_type": "code",
   "execution_count": 5,
   "metadata": {},
   "outputs": [
    {
     "name": "stdout",
     "output_type": "stream",
     "text": [
      "<class 'pandas.core.frame.DataFrame'>\n",
      "RangeIndex: 235631 entries, 0 to 235630\n",
      "Data columns (total 95 columns):\n",
      "bcopentobuy                   233184 non-null float64\n",
      "initialliststatus             235629 non-null object\n",
      "numactvbctl                   235629 non-null float64\n",
      "grade                         235629 non-null object\n",
      "mthssincelastrecord           41524 non-null float64\n",
      "totcurbal                     235629 non-null float64\n",
      "totalbalexmort                235629 non-null float64\n",
      "subgrade                      235629 non-null object\n",
      "mosinrcnttl                   235629 non-null float64\n",
      "inqlast12m                    0 non-null float64\n",
      "mortacc                       235629 non-null float64\n",
      "mthssincelastdelinq           119748 non-null float64\n",
      "verificationstatusjoint       0 non-null float64\n",
      "numactvrevtl                  235629 non-null float64\n",
      "tothicredlim                  235629 non-null float64\n",
      "ficorangehigh                 235629 non-null float64\n",
      "maxbalbc                      0 non-null float64\n",
      "bcutil                        233018 non-null float64\n",
      "numbctl                       235629 non-null float64\n",
      "totalrevhilim                 235629 non-null float64\n",
      "totcollamt                    235629 non-null float64\n",
      "numtl120dpd2m                 227769 non-null float64\n",
      "annualincjoint                0 non-null float64\n",
      "earliestcrline                235629 non-null object\n",
      "memberid                      0 non-null float64\n",
      "applicationtype               235629 non-null object\n",
      "intrate                       235629 non-null object\n",
      "ficorangelow                  235629 non-null float64\n",
      "totalacc                      235629 non-null float64\n",
      "desc                          15279 non-null object\n",
      "term                          235629 non-null object\n",
      "mthssincerecentbcdlq          62281 non-null float64\n",
      "homeownership                 235629 non-null object\n",
      "installment                   235629 non-null float64\n",
      "numrevaccts                   235629 non-null float64\n",
      "pubrec                        235629 non-null float64\n",
      "accopenpast24mths             235629 non-null float64\n",
      "numoprevtl                    235629 non-null float64\n",
      "avgcurbal                     235623 non-null float64\n",
      "openil6m                      0 non-null float64\n",
      "addrstate                     235629 non-null object\n",
      "dti                           235629 non-null float64\n",
      "openacc6m                     0 non-null float64\n",
      "totalbalil                    0 non-null float64\n",
      "delinq2yrs                    235629 non-null float64\n",
      "fundedamnt                    235629 non-null float64\n",
      "mosinoldilacct                228458 non-null float64\n",
      "annualinc                     235629 non-null float64\n",
      "revolutil                     235504 non-null object\n",
      "inqfi                         0 non-null float64\n",
      "numtl30dpd                    235629 non-null float64\n",
      "loanamnt                      235629 non-null float64\n",
      "numsats                       235629 non-null float64\n",
      "mthssincerecentrevoldelinq    84766 non-null float64\n",
      "mthssincerecentbc             233383 non-null float64\n",
      "id                            235631 non-null object\n",
      "revolbal                      235629 non-null float64\n",
      "inqlast6mths                  235629 non-null float64\n",
      "mthssincercntil               0 non-null float64\n",
      "openrv24m                     0 non-null float64\n",
      "zipcode                       235629 non-null object\n",
      "verificationstatus            235629 non-null object\n",
      "openrv12m                     0 non-null float64\n",
      "emptitle                      222393 non-null object\n",
      "totalilhighcreditlimit        235629 non-null float64\n",
      "collections12mthsexmed        235629 non-null float64\n",
      "chargeoffwithin12mths         235629 non-null float64\n",
      "numtl90gdpd24m                235629 non-null float64\n",
      "delinqamnt                    235629 non-null float64\n",
      "mosinoldrevtlop               235629 non-null float64\n",
      "taxliens                      235629 non-null float64\n",
      "numbcsats                     235629 non-null float64\n",
      "totalbclimit                  235629 non-null float64\n",
      "dtijoint                      0 non-null float64\n",
      "numacctsever120pd             235629 non-null float64\n",
      "accnowdelinq                  235629 non-null float64\n",
      "openil12m                     0 non-null float64\n",
      "pcttlnvrdlq                   235629 non-null float64\n",
      "emplength                     235629 non-null object\n",
      "openil24m                     0 non-null float64\n",
      "mthssincerecentinq            213937 non-null float64\n",
      "numiltl                       235629 non-null float64\n",
      "mosinrcntrevtlop              235629 non-null float64\n",
      "allutil                       0 non-null float64\n",
      "openacc                       235629 non-null float64\n",
      "numrevtlbalgt0                235629 non-null float64\n",
      "totalcutl                     0 non-null float64\n",
      "mthssincelastmajorderog       66478 non-null float64\n",
      "numtloppast12m                235629 non-null float64\n",
      "percentbcgt75                 233072 non-null float64\n",
      "pubrecbankruptcies            235629 non-null float64\n",
      "ilutil                        0 non-null float64\n",
      "purpose                       235629 non-null object\n",
      "issued                        235629 non-null object\n",
      "loanstatus                    235629 non-null object\n",
      "dtypes: float64(76), object(19)\n",
      "memory usage: 170.8+ MB\n"
     ]
    }
   ],
   "source": [
    "df.info()"
   ]
  },
  {
   "cell_type": "markdown",
   "metadata": {},
   "source": [
    "## Find all_null_feature, num_feature, ob_feature"
   ]
  },
  {
   "cell_type": "code",
   "execution_count": 6,
   "metadata": {
    "collapsed": true,
    "scrolled": true
   },
   "outputs": [],
   "source": [
    "all_null_feature=[]\n",
    "num_feature=[]\n",
    "ob_feature=[]\n",
    "for col in cols:\n",
    "    if df[col].isnull().sum()==df.shape[0]:\n",
    "        all_null_feature.append(col)\n",
    "    else:\n",
    "        if df[col].dtype == 'object':\n",
    "            ob_feature.append(col)\n",
    "        else:\n",
    "            num_feature.append(col)\n",
    "    "
   ]
  },
  {
   "cell_type": "code",
   "execution_count": 7,
   "metadata": {},
   "outputs": [
    {
     "name": "stdout",
     "output_type": "stream",
     "text": [
      "58 19\n",
      "18\n"
     ]
    }
   ],
   "source": [
    "print len(num_feature), len(ob_feature)\n",
    "print len(all_null_feature)"
   ]
  },
  {
   "cell_type": "code",
   "execution_count": 8,
   "metadata": {},
   "outputs": [
    {
     "data": {
      "text/plain": [
       "['inqlast12m',\n",
       " 'verificationstatusjoint',\n",
       " 'maxbalbc',\n",
       " 'annualincjoint',\n",
       " 'memberid',\n",
       " 'openil6m',\n",
       " 'openacc6m',\n",
       " 'totalbalil',\n",
       " 'inqfi',\n",
       " 'mthssincercntil',\n",
       " 'openrv24m',\n",
       " 'openrv12m',\n",
       " 'dtijoint',\n",
       " 'openil12m',\n",
       " 'openil24m',\n",
       " 'allutil',\n",
       " 'totalcutl',\n",
       " 'ilutil']"
      ]
     },
     "execution_count": 8,
     "metadata": {},
     "output_type": "execute_result"
    }
   ],
   "source": [
    "all_null_feature"
   ]
  },
  {
   "cell_type": "code",
   "execution_count": 9,
   "metadata": {
    "scrolled": true
   },
   "outputs": [
    {
     "data": {
      "text/plain": [
       "['initialliststatus',\n",
       " 'grade',\n",
       " 'subgrade',\n",
       " 'earliestcrline',\n",
       " 'applicationtype',\n",
       " 'intrate',\n",
       " 'desc',\n",
       " 'term',\n",
       " 'homeownership',\n",
       " 'addrstate',\n",
       " 'revolutil',\n",
       " 'id',\n",
       " 'zipcode',\n",
       " 'verificationstatus',\n",
       " 'emptitle',\n",
       " 'emplength',\n",
       " 'purpose',\n",
       " 'issued',\n",
       " 'loanstatus']"
      ]
     },
     "execution_count": 9,
     "metadata": {},
     "output_type": "execute_result"
    }
   ],
   "source": [
    "ob_feature"
   ]
  },
  {
   "cell_type": "code",
   "execution_count": 10,
   "metadata": {},
   "outputs": [
    {
     "name": "stdout",
     "output_type": "stream",
     "text": [
      "initialliststatus\n"
     ]
    }
   ],
   "source": [
    "i=0\n",
    "feat = ob_feature[i]\n",
    "print feat"
   ]
  },
  {
   "cell_type": "code",
   "execution_count": 11,
   "metadata": {},
   "outputs": [
    {
     "name": "stdout",
     "output_type": "stream",
     "text": [
      "2\n"
     ]
    },
    {
     "data": {
      "text/plain": [
       "w    123473\n",
       "f    112156\n",
       "Name: initialliststatus, dtype: int64"
      ]
     },
     "execution_count": 11,
     "metadata": {},
     "output_type": "execute_result"
    }
   ],
   "source": [
    "print df[feat].isnull().sum()\n",
    "df[feat].value_counts()"
   ]
  },
  {
   "cell_type": "code",
   "execution_count": 12,
   "metadata": {},
   "outputs": [
    {
     "name": "stdout",
     "output_type": "stream",
     "text": [
      "grade\n",
      "2\n"
     ]
    },
    {
     "data": {
      "text/plain": [
       "C    66565\n",
       "B    61935\n",
       "D    42992\n",
       "A    36108\n",
       "E    20121\n",
       "F     6223\n",
       "G     1685\n",
       "Name: grade, dtype: int64"
      ]
     },
     "execution_count": 12,
     "metadata": {},
     "output_type": "execute_result"
    }
   ],
   "source": [
    "i=1\n",
    "feat = ob_feature[i]\n",
    "print feat\n",
    "print df[feat].isnull().sum()\n",
    "df[feat].value_counts()"
   ]
  },
  {
   "cell_type": "code",
   "execution_count": 13,
   "metadata": {},
   "outputs": [
    {
     "name": "stdout",
     "output_type": "stream",
     "text": [
      "subgrade\n",
      "2\n"
     ]
    },
    {
     "data": {
      "text/plain": [
       "C2    13965\n",
       "C3    13794\n",
       "C1    13498\n",
       "B4    13475\n",
       "B5    13309\n",
       "C4    13093\n",
       "B3    13075\n",
       "C5    12215\n",
       "B2    11439\n",
       "D1    10880\n",
       "A5    10761\n",
       "B1    10637\n",
       "D2     9544\n",
       "A4     9124\n",
       "D3     8487\n",
       "D4     7881\n",
       "D5     6200\n",
       "A3     5842\n",
       "E1     5589\n",
       "A2     5234\n",
       "A1     5147\n",
       "E2     4831\n",
       "E3     3902\n",
       "E4     3101\n",
       "E5     2698\n",
       "F1     1935\n",
       "F2     1355\n",
       "F3     1321\n",
       "F4      964\n",
       "F5      648\n",
       "G1      527\n",
       "G2      427\n",
       "G3      305\n",
       "G4      214\n",
       "G5      212\n",
       "Name: subgrade, dtype: int64"
      ]
     },
     "execution_count": 13,
     "metadata": {},
     "output_type": "execute_result"
    }
   ],
   "source": [
    "i=2\n",
    "feat = ob_feature[i]\n",
    "print feat\n",
    "print df[feat].isnull().sum()\n",
    "df[feat].value_counts()"
   ]
  },
  {
   "cell_type": "code",
   "execution_count": 14,
   "metadata": {},
   "outputs": [
    {
     "name": "stdout",
     "output_type": "stream",
     "text": [
      "earliestcrline\n",
      "2\n"
     ]
    },
    {
     "data": {
      "text/plain": [
       "Aug-2001    1980\n",
       "Aug-2000    1945\n",
       "Sep-2000    1719\n",
       "Aug-2002    1711\n",
       "Aug-1999    1696\n",
       "Oct-2000    1658\n",
       "Sep-1999    1642\n",
       "Sep-2002    1574\n",
       "Oct-2001    1574\n",
       "Sep-2001    1562\n",
       "Oct-1999    1543\n",
       "Nov-1999    1525\n",
       "Sep-1998    1505\n",
       "Oct-2002    1472\n",
       "Nov-2000    1468\n",
       "Mar-2001    1452\n",
       "Nov-2001    1440\n",
       "Jul-2001    1421\n",
       "Sep-2003    1415\n",
       "Mar-2000    1399\n",
       "Aug-2003    1389\n",
       "May-2001    1384\n",
       "Oct-1998    1371\n",
       "Jul-2002    1370\n",
       "Jun-2000    1366\n",
       "Jun-2001    1356\n",
       "Jul-2000    1351\n",
       "Apr-2001    1347\n",
       "Oct-2003    1327\n",
       "Aug-1998    1312\n",
       "            ... \n",
       "Aug-1946       1\n",
       "Oct-1962       1\n",
       "May-1950       1\n",
       "Apr-1962       1\n",
       "Jan-1953       1\n",
       "Mar-1960       1\n",
       "Jul-1961       1\n",
       "Oct-1950       1\n",
       "Oct-1958       1\n",
       "Mar-1961       1\n",
       "May-1963       1\n",
       "Mar-1962       1\n",
       "Nov-1956       1\n",
       "Dec-1956       1\n",
       "Jul-1958       1\n",
       "Dec-1960       1\n",
       "May-1958       1\n",
       "Feb-1961       1\n",
       "Aug-1962       1\n",
       "Aug-1960       1\n",
       "Aug-1961       1\n",
       "Feb-1963       1\n",
       "Nov-1954       1\n",
       "Jun-1949       1\n",
       "Jan-1954       1\n",
       "Mar-1959       1\n",
       "Sep-1957       1\n",
       "Jan-1944       1\n",
       "Jan-1948       1\n",
       "Dec-1963       1\n",
       "Name: earliestcrline, dtype: int64"
      ]
     },
     "execution_count": 14,
     "metadata": {},
     "output_type": "execute_result"
    }
   ],
   "source": [
    "# date format, convert to time difference, eg, months to 2015 and thus is a numeric feature\n",
    "i=3\n",
    "feat = ob_feature[i]\n",
    "print feat\n",
    "print df[feat].isnull().sum()\n",
    "df[feat].value_counts()"
   ]
  },
  {
   "cell_type": "code",
   "execution_count": 15,
   "metadata": {},
   "outputs": [
    {
     "name": "stdout",
     "output_type": "stream",
     "text": [
      "applicationtype\n",
      "2\n"
     ]
    },
    {
     "data": {
      "text/plain": [
       "INDIVIDUAL    235629\n",
       "Name: applicationtype, dtype: int64"
      ]
     },
     "execution_count": 15,
     "metadata": {},
     "output_type": "execute_result"
    }
   ],
   "source": [
    "# all \"individual\", that is the reason for all join-stuff are NA\n",
    "i=4\n",
    "feat = ob_feature[i]\n",
    "print feat\n",
    "print df[feat].isnull().sum()\n",
    "df[feat].value_counts()"
   ]
  },
  {
   "cell_type": "code",
   "execution_count": 16,
   "metadata": {},
   "outputs": [
    {
     "name": "stdout",
     "output_type": "stream",
     "text": [
      "intrate\n",
      "2\n"
     ]
    },
    {
     "data": {
      "text/plain": [
       " 12.99%    12630\n",
       " 10.99%    10684\n",
       " 15.61%    10309\n",
       " 12.49%     9704\n",
       " 13.98%     8857\n",
       " 14.99%     8102\n",
       " 17.57%     7687\n",
       " 13.35%     7620\n",
       " 11.67%     7254\n",
       " 14.49%     7245\n",
       " 11.99%     6199\n",
       " 10.15%     6116\n",
       " 16.99%     5947\n",
       "  9.17%     5657\n",
       "  8.39%     5575\n",
       " 16.29%     5415\n",
       "  6.03%     5146\n",
       "  7.69%     4962\n",
       "  6.49%     4026\n",
       " 18.24%     3596\n",
       "  9.67%     3455\n",
       "  8.90%     3384\n",
       " 18.99%     3215\n",
       "  7.12%     3055\n",
       " 14.64%     3029\n",
       " 14.16%     2952\n",
       " 19.52%     2926\n",
       "  7.90%     2885\n",
       " 15.31%     2838\n",
       " 13.65%     2753\n",
       "           ...  \n",
       " 15.99%     1115\n",
       " 20.49%      984\n",
       " 17.14%      974\n",
       " 16.49%      968\n",
       " 24.99%      963\n",
       " 21.99%      916\n",
       " 21.18%      858\n",
       "  6.99%      855\n",
       " 17.86%      766\n",
       " 18.54%      720\n",
       " 19.22%      663\n",
       " 25.57%      647\n",
       " 19.24%      588\n",
       " 22.45%      558\n",
       " 25.80%      526\n",
       " 19.97%      517\n",
       " 20.50%      470\n",
       " 25.83%      426\n",
       " 21.48%      332\n",
       " 25.89%      305\n",
       " 22.40%      276\n",
       " 22.99%      241\n",
       " 25.99%      214\n",
       " 23.40%      214\n",
       " 26.06%      212\n",
       " 22.90%      212\n",
       " 23.99%      179\n",
       " 23.70%      163\n",
       "  6.00%       70\n",
       " 19.20%        1\n",
       "Name: intrate, dtype: int64"
      ]
     },
     "execution_count": 16,
     "metadata": {},
     "output_type": "execute_result"
    }
   ],
   "source": [
    "i=5\n",
    "feat = ob_feature[i]\n",
    "print feat\n",
    "print df[feat].isnull().sum()\n",
    "df[feat].value_counts()"
   ]
  },
  {
   "cell_type": "code",
   "execution_count": 17,
   "metadata": {},
   "outputs": [
    {
     "name": "stdout",
     "output_type": "stream",
     "text": [
      "desc\n",
      "220352\n"
     ]
    },
    {
     "data": {
      "text/plain": [
       "  Borrower added on 03/17/14 > Debt consolidation<br>                                                                                                                                                                                                                                                                                              11\n",
       "  Borrower added on 03/10/14 > Debt consolidation<br>                                                                                                                                                                                                                                                                                              10\n",
       "  Borrower added on 02/19/14 > Debt consolidation<br>                                                                                                                                                                                                                                                                                               9\n",
       "  Borrower added on 01/29/14 > Debt consolidation<br>                                                                                                                                                                                                                                                                                               8\n",
       "  Borrower added on 01/22/14 > Debt consolidation<br>                                                                                                                                                                                                                                                                                               7\n",
       "  Borrower added on 01/15/14 > Debt consolidation<br>                                                                                                                                                                                                                                                                                               7\n",
       "  Borrower added on 03/05/14 > debt consolidation<br>                                                                                                                                                                                                                                                                                               6\n",
       "  Borrower added on 01/03/14 > Debt consolidation<br>                                                                                                                                                                                                                                                                                               6\n",
       "  Borrower added on 01/27/14 > Debt consolidation<br>                                                                                                                                                                                                                                                                                               6\n",
       "  Borrower added on 02/06/14 > Debt consolidation<br>                                                                                                                                                                                                                                                                                               6\n",
       "  Borrower added on 03/14/14 > Debt consolidation<br>                                                                                                                                                                                                                                                                                               6\n",
       "  Borrower added on 01/06/14 > Debt consolidation<br>                                                                                                                                                                                                                                                                                               6\n",
       "  Borrower added on 02/26/14 > Debt Consolidation<br>                                                                                                                                                                                                                                                                                               6\n",
       "  Borrower added on 03/07/14 > Debt consolidation<br>                                                                                                                                                                                                                                                                                               6\n",
       "  Borrower added on 02/03/14 > Debt consolidation<br>                                                                                                                                                                                                                                                                                               6\n",
       "  Borrower added on 03/18/14 > Debt consolidation<br>                                                                                                                                                                                                                                                                                               6\n",
       "  Borrower added on 02/19/14 > Debt Consolidation<br>                                                                                                                                                                                                                                                                                               6\n",
       "  Borrower added on 03/03/14 > Debt consolidation<br>                                                                                                                                                                                                                                                                                               6\n",
       "  Borrower added on 02/27/14 > Debt consolidation<br>                                                                                                                                                                                                                                                                                               5\n",
       "  Borrower added on 01/07/14 > Debt consolidation<br>                                                                                                                                                                                                                                                                                               5\n",
       "  Borrower added on 01/17/14 > Debt consolidation<br>                                                                                                                                                                                                                                                                                               5\n",
       "  Borrower added on 03/05/14 > Debt consolidation<br>                                                                                                                                                                                                                                                                                               5\n",
       "                                                                                                                                                                                                                                                                                                                                                    5\n",
       "  Borrower added on 02/24/14 > Debt Consolidation<br>                                                                                                                                                                                                                                                                                               5\n",
       "  Borrower added on 01/21/14 > Debt consolidation<br>                                                                                                                                                                                                                                                                                               5\n",
       "  Borrower added on 02/25/14 > Debt consolidation.<br>                                                                                                                                                                                                                                                                                              5\n",
       "  Borrower added on 01/23/14 > Debt consolidation<br>                                                                                                                                                                                                                                                                                               5\n",
       "  Borrower added on 03/13/14 > Debt consolidation<br>                                                                                                                                                                                                                                                                                               5\n",
       "  Borrower added on 02/04/14 > Debt consolidation<br>                                                                                                                                                                                                                                                                                               5\n",
       "  Borrower added on 02/05/14 > Debt consolidation<br>                                                                                                                                                                                                                                                                                               5\n",
       "                                                                                                                                                                                                                                                                                                                                                   ..\n",
       "  Borrower added on 03/11/14 > I want to use this to consolidate my higher interest debt.  My credit is good and I don't miss payments.<br><br> Borrower added on 03/12/14 > Good credit.  Stable job history.  I just want to consolidate some debt into one payment.<br>                                                                          1\n",
       "  Borrower added on 02/24/14 > I had a problem with my house and I am trying to pay off the bills that were incurred. I am paying high amounts on credit cards so I am trying to pay 1 monthly payment. Credit card interest is high and it seems like everyone month the payment is basically paying the interest.<br>                             1\n",
       "  Borrower added on 03/14/14 > I would like to remodel my very old kitchen. I'm a good borrower because I always pay back on time. Monthly budget around $1025.My job is very stable been at the same for 30 years and plan to be there few more years.<br>                                                                                         1\n",
       "  Borrower added on 02/06/14 > im consaidating all bills<br><br> Borrower added on 02/06/14 > I'm consalidating<br><br> Borrower added on 02/06/14 > I am consolidating<br>                                                                                                                                                                         1\n",
       "  Borrower added on 03/10/14 > Looking to speed up my plans to go completely debt-free by consolidating 4 of my balances.<br>                                                                                                                                                                                                                       1\n",
       "  Borrower added on 01/24/14 > For a credit card with an interest rate that is way to high. Which I am paying a little more then the minimum but still with a good portion going to the interest rate it will take longer then the lending club loan. Thank you<br>                                                                                 1\n",
       "  Borrower added on 01/16/14 > Lower payments<br>                                                                                                                                                                                                                                                                                                   1\n",
       "  Borrower added on 02/12/14 > This was a better choice for me to pay off my credit cards since credit card companies charge so much more interest.<br>                                                                                                                                                                                             1\n",
       "  Borrower added on 02/24/14 > Consolidate credit cards.<br>                                                                                                                                                                                                                                                                                        1\n",
       "  Borrower added on 12/30/13 > Credit card refi and debt consolidation<br>                                                                                                                                                                                                                                                                          1\n",
       "  Borrower added on 02/10/14 > Home improvement project<br>                                                                                                                                                                                                                                                                                         1\n",
       "  Borrower added on 01/16/14 > This loan is for debt consolidation, I want pay of my cards with a higher interest rate and I have a plan to be debt free in three years and this loan will help me achieve that.<br>                                                                                                                                1\n",
       "  Borrower added on 02/02/14 > This loan is to consolidate existing loans and put a fixed payoff plan in place.<br>                                                                                                                                                                                                                                 1\n",
       "  Borrower added on 01/07/14 > I payoff my existing debt on open accounts. Several years I ran into a period of falling behind in payments as there were family members who needed my financial support and help. I eventually got back on track and have made significant efforts in paying them off.<br>                                          1\n",
       "  Borrower added on 01/27/14 > DEBT CONSOLIDATION<br>                                                                                                                                                                                                                                                                                               1\n",
       "  Borrower added on 01/08/14 > Basement remodeling, including a bedroom, and sump pump.<br>                                                                                                                                                                                                                                                         1\n",
       "  Borrower added on 02/09/14 > General bill and credit card consolidation<br>                                                                                                                                                                                                                                                                       1\n",
       "  Borrower added on 02/26/14 > Pay off credit cards and home improvement<br>                                                                                                                                                                                                                                                                        1\n",
       "  Borrower added on 02/02/14 > Loan requested to pay off existing credit card debt.  Professional, stable earnings, good credit.<br>                                                                                                                                                                                                                1\n",
       "  Borrower added on 03/14/14 > Debt Consolidation. This loan will pay off all credit card debt. After paying off this loan, we will purchase a house.<br>                                                                                                                                                                                           1\n",
       "  Borrower added on 02/27/14 > This loan is to purchase a newer vehicle for myself and my business.  I started my company in 2010 and opened up my second location last year. I will use the vehicle to pick up customers and products to sell.  Newer vehicle will continue to show customers the quality service my company and I supply.<br>     1\n",
       "  Borrower added on 03/05/14 > Debt free in 2017!!<br>                                                                                                                                                                                                                                                                                              1\n",
       "  Borrower added on 01/02/14 > Pay off some credit cards and most of it will go to finishing off the rest of our basement, need to put in a sump pump and drain tile before finishing rest of basement.<br><br>  Borrower added on 01/02/14 > Pay off credit cards and put sump pump and drain tile in rest of basement then finish it.<br>         1\n",
       "  Borrower added on 02/27/14 > While we chopped our credit cards years ago, we thought it would be smart to keep them for over draft protection. We didn't realize then that the overdrafts counted as cash advances and had over a 21% interest rate. Time to consolidate and get this paid off.<br>                                               1\n",
       "  Borrower added on 03/12/14 > Hello, I'm looking to eliminate all of my revolving debt thus freeing 50% of my monthly income. I always pay more than the minimum due and while I can continue this practice, this would be a great relief. Thank you.<br>                                                                                          1\n",
       "  Borrower added on 02/10/14 > Debt consolidation paying off a chase card $12000 <br>Gander mountain MasterCard $7200<br>Lowes  GE card $2400 Want to pay a lower interest rate &amp; while keeping my excellent credit score.<br>                                                                                                                  1\n",
       "  Borrower added on 02/11/14 > I need to consolidate my bills.<br><br> Borrower added on 02/11/14 > I need this loan to consildate my debt.<br>                                                                                                                                                                                                     1\n",
       "  Borrower added on 02/26/14 > I would like to pay off an existing Lending Club loan with this loan. The interest is much better, and payments are much more manageable!<br>                                                                                                                                                                        1\n",
       "  Borrower added on 03/05/14 > i want to use this loan to consalidate some debt and have fewer monthly payments.<br>                                                                                                                                                                                                                                1\n",
       "  Borrower added on 03/17/14 > The loan is to pay off ALL credit card debt, pure and simple, and to have one single payment for piece of mind and to be able to begin saving for my future.<br>                                                                                                                                                     1\n",
       "Name: desc, dtype: int64"
      ]
     },
     "execution_count": 17,
     "metadata": {},
     "output_type": "execute_result"
    }
   ],
   "source": [
    "# only 15279 not null values, and involv NLP. simply drop it, or make it classify them to null and not_null, short v.s. long\n",
    "# this part might be quite similar to the purpose feature, which is quite important.\n",
    "\n",
    "i=6\n",
    "feat = ob_feature[i]\n",
    "print feat\n",
    "print df[feat].isnull().sum()\n",
    "df[feat].value_counts()"
   ]
  },
  {
   "cell_type": "code",
   "execution_count": 18,
   "metadata": {},
   "outputs": [
    {
     "name": "stdout",
     "output_type": "stream",
     "text": [
      "term\n",
      "2\n",
      " 36 months    0.689941\n",
      " 60 months    0.310059\n",
      "Name: term, dtype: float64\n"
     ]
    },
    {
     "data": {
      "text/plain": [
       " 36 months    162570\n",
       " 60 months     73059\n",
       "Name: term, dtype: int64"
      ]
     },
     "execution_count": 18,
     "metadata": {},
     "output_type": "execute_result"
    }
   ],
   "source": [
    "# only use 36 months data for our project\n",
    "i=7\n",
    "feat = ob_feature[i]\n",
    "print feat\n",
    "print df[feat].isnull().sum()\n",
    "print df.term.value_counts(normalize=True)\n",
    "df[feat].value_counts()"
   ]
  },
  {
   "cell_type": "code",
   "execution_count": 19,
   "metadata": {},
   "outputs": [
    {
     "name": "stdout",
     "output_type": "stream",
     "text": [
      "homeownership\n",
      "2\n"
     ]
    },
    {
     "data": {
      "text/plain": [
       "MORTGAGE    119937\n",
       "RENT         92684\n",
       "OWN          23007\n",
       "ANY              1\n",
       "Name: homeownership, dtype: int64"
      ]
     },
     "execution_count": 19,
     "metadata": {},
     "output_type": "execute_result"
    }
   ],
   "source": [
    "# one hot encoding, but ignore the 1 data point ANY?\n",
    "i=8\n",
    "feat = ob_feature[i]\n",
    "print feat\n",
    "print df[feat].isnull().sum()\n",
    "df[feat].value_counts()"
   ]
  },
  {
   "cell_type": "code",
   "execution_count": 20,
   "metadata": {},
   "outputs": [
    {
     "name": "stdout",
     "output_type": "stream",
     "text": [
      "addrstate\n",
      "2\n",
      "49 CA    33288\n",
      "NY    19923\n",
      "TX    18967\n",
      "FL    15691\n",
      "IL     9628\n",
      "NJ     8863\n",
      "PA     8427\n",
      "OH     8011\n",
      "GA     7600\n",
      "VA     6965\n",
      "NC     6442\n",
      "MI     6205\n",
      "MD     5564\n",
      "AZ     5507\n",
      "MA     5232\n",
      "WA     5118\n",
      "CO     4929\n",
      "MN     4276\n",
      "IN     4206\n",
      "TN     3907\n",
      "MO     3788\n",
      "CT     3483\n",
      "NV     3225\n",
      "WI     3101\n",
      "AL     3034\n",
      "SC     2971\n",
      "OR     2912\n",
      "LA     2761\n",
      "KY     2379\n",
      "OK     2118\n",
      "KS     2103\n",
      "AR     1806\n",
      "UT     1669\n",
      "NM     1367\n",
      "WV     1311\n",
      "MS     1197\n",
      "HI     1196\n",
      "NH     1155\n",
      "RI     1043\n",
      "MT      731\n",
      "DE      661\n",
      "DC      637\n",
      "AK      598\n",
      "WY      583\n",
      "VT      542\n",
      "SD      506\n",
      "IA        1\n",
      "ID        1\n",
      "ME        1\n",
      "Name: addrstate, dtype: int64\n"
     ]
    }
   ],
   "source": [
    "# 49 states, can generate frequency and leave-one-out encoding\n",
    "i=9\n",
    "feat = ob_feature[i]\n",
    "print feat\n",
    "print df[feat].isnull().sum()\n",
    "print len(df[feat].value_counts()), df[feat].value_counts()"
   ]
  },
  {
   "cell_type": "code",
   "execution_count": 21,
   "metadata": {},
   "outputs": [
    {
     "name": "stdout",
     "output_type": "stream",
     "text": [
      "revolutil\n",
      "127\n",
      "1160 0%        590\n",
      "59%       520\n",
      "58%       515\n",
      "53%       512\n",
      "48%       485\n",
      "50%       483\n",
      "55%       479\n",
      "54%       472\n",
      "57%       472\n",
      "46%       471\n",
      "52%       467\n",
      "62%       466\n",
      "61%       466\n",
      "47%       462\n",
      "51%       457\n",
      "60%       451\n",
      "67%       450\n",
      "65%       442\n",
      "63%       441\n",
      "49%       441\n",
      "64%       438\n",
      "40%       436\n",
      "66%       429\n",
      "43%       428\n",
      "56%       428\n",
      "68%       428\n",
      "44%       423\n",
      "69%       422\n",
      "41%       421\n",
      "45%       416\n",
      "         ... \n",
      "114%        1\n",
      "111.4%      1\n",
      "119.4%      1\n",
      "113.3%      1\n",
      "107.5%      1\n",
      "141.8%      1\n",
      "130.2%      1\n",
      "153%        1\n",
      "112.2%      1\n",
      "112%        1\n",
      "119.1%      1\n",
      "109.4%      1\n",
      "115.1%      1\n",
      "109.2%      1\n",
      "150.7%      1\n",
      "121.1%      1\n",
      "129.4%      1\n",
      "146.1%      1\n",
      "109.5%      1\n",
      "110.5%      1\n",
      "366.6%      1\n",
      "177.7%      1\n",
      "120%        1\n",
      "127%        1\n",
      "125.3%      1\n",
      "111.9%      1\n",
      "113.7%      1\n",
      "125.8%      1\n",
      "118.9%      1\n",
      "119.7%      1\n",
      "Name: revolutil, dtype: int64\n"
     ]
    }
   ],
   "source": [
    "i=10\n",
    "feat = ob_feature[i]\n",
    "print feat\n",
    "print df[feat].isnull().sum()\n",
    "print len(df[feat].value_counts()), df[feat].value_counts()"
   ]
  },
  {
   "cell_type": "code",
   "execution_count": 22,
   "metadata": {},
   "outputs": [
    {
     "name": "stdout",
     "output_type": "stream",
     "text": [
      "id\n",
      "0\n",
      "235631\n"
     ]
    }
   ],
   "source": [
    "i=11\n",
    "feat = ob_feature[i]\n",
    "print feat\n",
    "print df[feat].isnull().sum()\n",
    "print len(df[feat].value_counts()) #, df[feat].value_counts()"
   ]
  },
  {
   "cell_type": "code",
   "execution_count": 23,
   "metadata": {},
   "outputs": [
    {
     "name": "stdout",
     "output_type": "stream",
     "text": [
      "zipcode\n",
      "2\n",
      "866 750xx    2546\n",
      "945xx    2418\n",
      "112xx    2382\n",
      "606xx    2273\n",
      "300xx    2085\n",
      "Name: zipcode, dtype: int64 929xx    1\n",
      "511xx    1\n",
      "833xx    1\n",
      "861xx    1\n",
      "832xx    1\n",
      "Name: zipcode, dtype: int64\n"
     ]
    }
   ],
   "source": [
    "# only keep first 3 digits, 866 values, use frequency and leave on out encoding\n",
    "i=12\n",
    "feat = ob_feature[i]\n",
    "print feat\n",
    "print df[feat].isnull().sum()\n",
    "print len(df[feat].value_counts()), df[feat].value_counts()[:5], df[feat].value_counts()[-5:]"
   ]
  },
  {
   "cell_type": "code",
   "execution_count": 24,
   "metadata": {},
   "outputs": [
    {
     "name": "stdout",
     "output_type": "stream",
     "text": [
      "verificationstatus\n",
      "2\n",
      "3 Source Verified    97741\n",
      "Not Verified       70659\n",
      "Verified           67229\n",
      "Name: verificationstatus, dtype: int64\n"
     ]
    }
   ],
   "source": [
    "i=13\n",
    "feat = ob_feature[i]\n",
    "print feat\n",
    "print df[feat].isnull().sum()\n",
    "print len(df[feat].value_counts()) , df[feat].value_counts()[:5] #, df[feat].value_counts()[-5:]"
   ]
  },
  {
   "cell_type": "code",
   "execution_count": 25,
   "metadata": {},
   "outputs": [
    {
     "name": "stdout",
     "output_type": "stream",
     "text": [
      "emptitle\n",
      "13238\n",
      "75352 Teacher                     4569\n",
      "Manager                     3772\n",
      "Registered Nurse            1960\n",
      "RN                          1816\n",
      "Supervisor                  1663\n",
      "Owner                       1512\n",
      "Sales                       1406\n",
      "Project Manager             1368\n",
      "Office Manager              1185\n",
      "manager                     1115\n",
      "Driver                      1111\n",
      "General Manager             1055\n",
      "teacher                     1028\n",
      "Director                    1000\n",
      "Engineer                     870\n",
      "President                    852\n",
      "owner                        850\n",
      "Vice President               827\n",
      "driver                       822\n",
      "Attorney                     708\n",
      "Administrative Assistant     706\n",
      "Operations Manager           699\n",
      "Accountant                   663\n",
      "supervisor                   653\n",
      "Police Officer               627\n",
      "sales                        613\n",
      "Sales Manager                592\n",
      "Account Manager              566\n",
      "Executive Assistant          564\n",
      "Store Manager                562\n",
      "Name: emptitle, dtype: int64\n"
     ]
    }
   ],
   "source": [
    "# has 13236 NAs, can do frequency and simple NLP\n",
    "i=14\n",
    "feat = ob_feature[i]\n",
    "print feat\n",
    "print df[feat].isnull().sum()\n",
    "print len(df[feat].value_counts()) , df[feat].value_counts()[:30]#, df[feat].value_counts()[-10:]"
   ]
  },
  {
   "cell_type": "code",
   "execution_count": 26,
   "metadata": {},
   "outputs": [
    {
     "name": "stdout",
     "output_type": "stream",
     "text": [
      "emplength\n",
      "2\n",
      "12 10+ years    79505\n",
      "2 years      20487\n",
      "3 years      18267\n",
      "< 1 year     17982\n",
      "1 year       14593\n",
      "4 years      13528\n",
      "7 years      13099\n",
      "5 years      13051\n",
      "n/a          12019\n",
      "8 years      11853\n",
      "6 years      11821\n",
      "9 years       9424\n",
      "Name: emplength, dtype: int64\n"
     ]
    }
   ],
   "source": [
    "# 12 values, n/a, <1 year, 1~9 year(s), 10+ years, convert to num\n",
    "i=15\n",
    "feat = ob_feature[i]\n",
    "print feat\n",
    "print df[feat].isnull().sum()\n",
    "print len(df[feat].value_counts()) , df[feat].value_counts()[:12] #, df[feat].value_counts()[-10:]"
   ]
  },
  {
   "cell_type": "code",
   "execution_count": 27,
   "metadata": {},
   "outputs": [
    {
     "name": "stdout",
     "output_type": "stream",
     "text": [
      "purpose\n",
      "2\n",
      "13 debt_consolidation    143006\n",
      "credit_card            55522\n",
      "home_improvement       13045\n",
      "other                  10371\n",
      "major_purchase          3858\n",
      "medical                 2331\n",
      "small_business          2277\n",
      "car                     1832\n",
      "moving                  1328\n",
      "vacation                1178\n",
      "house                    750\n",
      "renewable_energy         123\n",
      "wedding                    8\n",
      "Name: purpose, dtype: int64\n"
     ]
    }
   ],
   "source": [
    "i=16\n",
    "feat = ob_feature[i]\n",
    "print feat\n",
    "print df[feat].isnull().sum()\n",
    "print len(df[feat].value_counts()) , df[feat].value_counts()[:15] #, df[feat].value_counts()[-10:]"
   ]
  },
  {
   "cell_type": "code",
   "execution_count": 28,
   "metadata": {},
   "outputs": [
    {
     "name": "stdout",
     "output_type": "stream",
     "text": [
      "issued\n",
      "2\n",
      "12 Oct-2014    38783\n",
      "Jul-2014    29306\n",
      "Nov-2014    25054\n",
      "May-2014    19099\n",
      "Apr-2014    19071\n",
      "Aug-2014    18814\n",
      "Jun-2014    17179\n",
      "Mar-2014    16513\n",
      "Jan-2014    15628\n",
      "Feb-2014    15269\n",
      "Sep-2014    10606\n",
      "Dec-2014    10307\n",
      "Name: issued, dtype: int64\n"
     ]
    }
   ],
   "source": [
    "i=17\n",
    "feat = ob_feature[i]\n",
    "print feat\n",
    "print df[feat].isnull().sum()\n",
    "print len(df[feat].value_counts()) , df[feat].value_counts()[:15] #, df[feat].value_counts()[-10:]"
   ]
  },
  {
   "cell_type": "code",
   "execution_count": 29,
   "metadata": {},
   "outputs": [
    {
     "name": "stdout",
     "output_type": "stream",
     "text": [
      "loanstatus\n",
      "2\n",
      "7 Fully Paid            119363\n",
      "Current                79396\n",
      "Charged Off            32634\n",
      "Late (31-120 days)      2576\n",
      "In Grace Period          794\n",
      "Late (16-30 days)        630\n",
      "Default                  236\n",
      "Name: loanstatus, dtype: int64\n"
     ]
    }
   ],
   "source": [
    "i=18\n",
    "feat = ob_feature[i]\n",
    "print feat\n",
    "print df[feat].isnull().sum()\n",
    "print len(df[feat].value_counts()) , df[feat].value_counts()[:15] #, df[feat].value_counts()[-10:]"
   ]
  },
  {
   "cell_type": "markdown",
   "metadata": {},
   "source": [
    "## For an issued loan, fundedamnt=loanamnt, drop fundedamnt"
   ]
  },
  {
   "cell_type": "code",
   "execution_count": 30,
   "metadata": {
    "scrolled": true
   },
   "outputs": [
    {
     "data": {
      "text/html": [
       "<div>\n",
       "<table border=\"1\" class=\"dataframe\">\n",
       "  <thead>\n",
       "    <tr style=\"text-align: right;\">\n",
       "      <th></th>\n",
       "      <th>fundedamnt</th>\n",
       "      <th>loanamnt</th>\n",
       "    </tr>\n",
       "  </thead>\n",
       "  <tbody>\n",
       "    <tr>\n",
       "      <th>0</th>\n",
       "      <td>10400.0</td>\n",
       "      <td>10400.0</td>\n",
       "    </tr>\n",
       "    <tr>\n",
       "      <th>1</th>\n",
       "      <td>15000.0</td>\n",
       "      <td>15000.0</td>\n",
       "    </tr>\n",
       "    <tr>\n",
       "      <th>2</th>\n",
       "      <td>21425.0</td>\n",
       "      <td>21425.0</td>\n",
       "    </tr>\n",
       "    <tr>\n",
       "      <th>3</th>\n",
       "      <td>7650.0</td>\n",
       "      <td>7650.0</td>\n",
       "    </tr>\n",
       "    <tr>\n",
       "      <th>4</th>\n",
       "      <td>9600.0</td>\n",
       "      <td>9600.0</td>\n",
       "    </tr>\n",
       "    <tr>\n",
       "      <th>5</th>\n",
       "      <td>12800.0</td>\n",
       "      <td>12800.0</td>\n",
       "    </tr>\n",
       "    <tr>\n",
       "      <th>6</th>\n",
       "      <td>2500.0</td>\n",
       "      <td>2500.0</td>\n",
       "    </tr>\n",
       "    <tr>\n",
       "      <th>7</th>\n",
       "      <td>16000.0</td>\n",
       "      <td>16000.0</td>\n",
       "    </tr>\n",
       "    <tr>\n",
       "      <th>8</th>\n",
       "      <td>21075.0</td>\n",
       "      <td>21075.0</td>\n",
       "    </tr>\n",
       "    <tr>\n",
       "      <th>9</th>\n",
       "      <td>23325.0</td>\n",
       "      <td>23325.0</td>\n",
       "    </tr>\n",
       "  </tbody>\n",
       "</table>\n",
       "</div>"
      ],
      "text/plain": [
       "   fundedamnt  loanamnt\n",
       "0     10400.0   10400.0\n",
       "1     15000.0   15000.0\n",
       "2     21425.0   21425.0\n",
       "3      7650.0    7650.0\n",
       "4      9600.0    9600.0\n",
       "5     12800.0   12800.0\n",
       "6      2500.0    2500.0\n",
       "7     16000.0   16000.0\n",
       "8     21075.0   21075.0\n",
       "9     23325.0   23325.0"
      ]
     },
     "execution_count": 30,
     "metadata": {},
     "output_type": "execute_result"
    },
    {
     "data": {
      "image/png": "[encoded data removed]",
      "text/plain": [
       "<matplotlib.figure.Figure at 0x3cf1cc0>"
      ]
     },
     "metadata": {},
     "output_type": "display_data"
    }
   ],
   "source": [
    "df.ratio=df.fundedamnt/df.loanamnt.astype(float,3)\n",
    "df.ratio.hist(bins=100)\n",
    "df[['fundedamnt','loanamnt']][:10]"
   ]
  },
  {
   "cell_type": "markdown",
   "metadata": {},
   "source": [
    "##### Histogram"
   ]
  },
  {
   "cell_type": "code",
   "execution_count": 31,
   "metadata": {},
   "outputs": [
    {
     "data": {
      "text/plain": [
       "<matplotlib.axes._subplots.AxesSubplot at 0x13f4c278>"
      ]
     },
     "execution_count": 31,
     "metadata": {},
     "output_type": "execute_result"
    },
    {
     "data": {
      "image/png": "[encoded data removed]",
      "text/plain": [
       "<matplotlib.figure.Figure at 0xab77cc0>"
      ]
     },
     "metadata": {},
     "output_type": "display_data"
    }
   ],
   "source": [
    "df.installment.hist(bins=100)"
   ]
  },
  {
   "cell_type": "markdown",
   "metadata": {},
   "source": [
    "##### Meanr response"
   ]
  },
  {
   "cell_type": "code",
   "execution_count": 32,
   "metadata": {
    "collapsed": true
   },
   "outputs": [],
   "source": [
    "df = df.query(\"loanstatus == 'Fully Paid' or loanstatus == 'Charged Off' \")"
   ]
  },
  {
   "cell_type": "code",
   "execution_count": 33,
   "metadata": {
    "collapsed": true
   },
   "outputs": [],
   "source": [
    "df['loanstatus'] = df.loanstatus.map({\"Charged Off\": 1, \"Fully Paid\": 0})"
   ]
  },
  {
   "cell_type": "code",
   "execution_count": null,
   "metadata": {
    "collapsed": true
   },
   "outputs": [],
   "source": []
  },
  {
   "cell_type": "code",
   "execution_count": 34,
   "metadata": {
    "collapsed": true
   },
   "outputs": [],
   "source": [
    "dummy_list = [\"emplength\", \"verificationstatus\", \"delinq2yrs\", \"addrstate\", 'homeownership', \n",
    "              \"grade\", \"subgrade\", \"openacc\"]\n",
    "n = len(dummy_list)"
   ]
  },
  {
   "cell_type": "code",
   "execution_count": 35,
   "metadata": {},
   "outputs": [
    {
     "data": {
      "text/plain": [
       "<matplotlib.axes._subplots.AxesSubplot at 0x13966d68>"
      ]
     },
     "execution_count": 35,
     "metadata": {},
     "output_type": "execute_result"
    },
    {
     "data": {
      "image/png": "[encoded data removed]",
      "text/plain": [
       "<matplotlib.figure.Figure at 0x139669e8>"
      ]
     },
     "metadata": {},
     "output_type": "display_data"
    }
   ],
   "source": [
    "# why verified incomes gives higher default rates?\n",
    "\n",
    "sns.barplot(x=dummy_list[1], y='loanstatus', data=df)"
   ]
  },
  {
   "cell_type": "code",
   "execution_count": 36,
   "metadata": {},
   "outputs": [
    {
     "data": {
      "text/plain": [
       "<matplotlib.axes._subplots.AxesSubplot at 0x13956f28>"
      ]
     },
     "execution_count": 36,
     "metadata": {},
     "output_type": "execute_result"
    },
    {
     "data": {
      "image/png": "[encoded data removed]",
      "text/plain": [
       "<matplotlib.figure.Figure at 0x1936f048>"
      ]
     },
     "metadata": {},
     "output_type": "display_data"
    }
   ],
   "source": [
    "sns.barplot(x=dummy_list[2], y='loanstatus', data=df)"
   ]
  },
  {
   "cell_type": "code",
   "execution_count": 38,
   "metadata": {},
   "outputs": [
    {
     "data": {
      "text/plain": [
       "<matplotlib.axes._subplots.AxesSubplot at 0xaf37198>"
      ]
     },
     "execution_count": 38,
     "metadata": {},
     "output_type": "execute_result"
    },
    {
     "data": {
      "image/png": "[encoded data removed]",
      "text/plain": [
       "<matplotlib.figure.Figure at 0x13b6d908>"
      ]
     },
     "metadata": {},
     "output_type": "display_data"
    }
   ],
   "source": [
    "sns.barplot(x=dummy_list[3], y='loanstatus', data=df)"
   ]
  },
  {
   "cell_type": "code",
   "execution_count": 39,
   "metadata": {},
   "outputs": [
    {
     "data": {
      "text/plain": [
       "<matplotlib.axes._subplots.AxesSubplot at 0x10e64eb8>"
      ]
     },
     "execution_count": 39,
     "metadata": {},
     "output_type": "execute_result"
    },
    {
     "data": {
      "image/png": "[encoded data removed]",
      "text/plain": [
       "<matplotlib.figure.Figure at 0xaf74eb8>"
      ]
     },
     "metadata": {},
     "output_type": "display_data"
    }
   ],
   "source": [
    "sns.barplot(x=dummy_list[4], y='loanstatus', data=df)"
   ]
  },
  {
   "cell_type": "code",
   "execution_count": 40,
   "metadata": {},
   "outputs": [
    {
     "data": {
      "text/plain": [
       "<matplotlib.axes._subplots.AxesSubplot at 0x10e7bb38>"
      ]
     },
     "execution_count": 40,
     "metadata": {},
     "output_type": "execute_result"
    },
    {
     "data": {
      "image/png": "[encoded data removed]",
      "text/plain": [
       "<matplotlib.figure.Figure at 0xafb1358>"
      ]
     },
     "metadata": {},
     "output_type": "display_data"
    }
   ],
   "source": [
    "sns.barplot(x=dummy_list[5], y='loanstatus', data=df, order = ['A', 'B', 'C', 'D', 'E', 'F', 'G'])"
   ]
  },
  {
   "cell_type": "code",
   "execution_count": 41,
   "metadata": {},
   "outputs": [
    {
     "data": {
      "text/plain": [
       "array(['A1', 'A2', 'A3', 'A4', 'A5', 'B1', 'B2', 'B3', 'B4', 'B5', 'C1',\n",
       "       'C2', 'C3', 'C4', 'C5', 'D1', 'D2', 'D3', 'D4', 'D5', 'E1', 'E2',\n",
       "       'E3', 'E4', 'E5', 'F1', 'F2', 'F3', 'F4', 'F5', 'G1', 'G2', 'G3',\n",
       "       'G4', 'G5'], dtype=object)"
      ]
     },
     "execution_count": 41,
     "metadata": {},
     "output_type": "execute_result"
    }
   ],
   "source": [
    "np.sort(df.subgrade.unique())"
   ]
  },
  {
   "cell_type": "code",
   "execution_count": 42,
   "metadata": {},
   "outputs": [
    {
     "data": {
      "text/plain": [
       "<matplotlib.axes._subplots.AxesSubplot at 0x147cfc50>"
      ]
     },
     "execution_count": 42,
     "metadata": {},
     "output_type": "execute_result"
    },
    {
     "data": {
      "image/png": "[encoded data removed]",
      "text/plain": [
       "<matplotlib.figure.Figure at 0xafb1e48>"
      ]
     },
     "metadata": {},
     "output_type": "display_data"
    }
   ],
   "source": [
    "sns.barplot(x=dummy_list[6], y='loanstatus', data=df, order = np.sort(df.subgrade.unique()))"
   ]
  },
  {
   "cell_type": "code",
   "execution_count": 44,
   "metadata": {
    "collapsed": true
   },
   "outputs": [],
   "source": [
    "def countinuous_variable_plot(feat_name):\n",
    "    sns.set_style(\"whitegrid\", {'axes.edgecolor': '0'})\n",
    "    factor = pd.qcut(df[feat_name], 5, labels = False) #groups the data act on groups                                                               #seperately\n",
    "    table = df.groupby([factor, 'loanstatus']).size() #gets group size counts, hashed by the two variables\n",
    "    table = table.unstack('loanstatus') #splits the data into 2 columns, 0, 1, each indexed by the\n",
    "    normedtable = table.div(table.sum(1), axis=0) #divides the counts by the totals\n",
    "    fig, ax = plt.subplots(1, 1, figsize=(12,6))\n",
    "    normedtable.ix[:, 1].plot(kind = 'bar', alpha=0.9, color =\"#FD2C10\", ax = ax )\n",
    "    ax.set_xlabel(\"%s percentile\" % feat_name , fontsize = 20)\n",
    "    ax.set_ylabel('Default Rate', fontsize = 20)\n",
    "    x = range(5)\n",
    "    labels = ['20%tile', '40%tile', '60%tile', '80%tile', '100%tile']\n",
    "    plt.xticks(x, labels, rotation='0', fontsize = 18)\n",
    "    sns.despine()\n",
    "    ax.set_title(\"Loan Performance with respect to %s\" % feat_name )\n",
    "    fig.savefig('age.jpg')"
   ]
  },
  {
   "cell_type": "code",
   "execution_count": 45,
   "metadata": {},
   "outputs": [
    {
     "data": {
      "image/png": "[encoded data removed]",
      "text/plain": [
       "<matplotlib.figure.Figure at 0x16d7df98>"
      ]
     },
     "metadata": {},
     "output_type": "display_data"
    }
   ],
   "source": [
    "countinuous_variable_plot('annualinc')"
   ]
  },
  {
   "cell_type": "code",
   "execution_count": 46,
   "metadata": {},
   "outputs": [
    {
     "data": {
      "image/png": "[encoded data removed]",
      "text/plain": [
       "<matplotlib.figure.Figure at 0x1654f240>"
      ]
     },
     "metadata": {},
     "output_type": "display_data"
    }
   ],
   "source": [
    "countinuous_variable_plot('dti')"
   ]
  },
  {
   "cell_type": "code",
   "execution_count": 47,
   "metadata": {},
   "outputs": [
    {
     "data": {
      "image/png": "[encoded data removed]",
      "text/plain": [
       "<matplotlib.figure.Figure at 0x158fef60>"
      ]
     },
     "metadata": {},
     "output_type": "display_data"
    }
   ],
   "source": [
    "countinuous_variable_plot('revolbal')"
   ]
  },
  {
   "cell_type": "code",
   "execution_count": 49,
   "metadata": {},
   "outputs": [
    {
     "data": {
      "image/png": "[encoded data removed]",
      "text/plain": [
       "<matplotlib.figure.Figure at 0xadf1240>"
      ]
     },
     "metadata": {},
     "output_type": "display_data"
    }
   ],
   "source": [
    "countinuous_variable_plot('tothicredlim')"
   ]
  },
  {
   "cell_type": "code",
   "execution_count": 50,
   "metadata": {},
   "outputs": [
    {
     "data": {
      "image/png": "[encoded data removed]",
      "text/plain": [
       "<matplotlib.figure.Figure at 0x134cc9e8>"
      ]
     },
     "metadata": {},
     "output_type": "display_data"
    }
   ],
   "source": [
    "countinuous_variable_plot('totalbalexmort')"
   ]
  },
  {
   "cell_type": "code",
   "execution_count": 51,
   "metadata": {},
   "outputs": [
    {
     "data": {
      "image/png": "[encoded data removed]",
      "text/plain": [
       "<matplotlib.figure.Figure at 0xadf1b00>"
      ]
     },
     "metadata": {},
     "output_type": "display_data"
    }
   ],
   "source": [
    "countinuous_variable_plot('totalbclimit')"
   ]
  },
  {
   "cell_type": "code",
   "execution_count": 52,
   "metadata": {},
   "outputs": [
    {
     "data": {
      "image/png": "[encoded data removed]",
      "text/plain": [
       "<matplotlib.figure.Figure at 0x158fe320>"
      ]
     },
     "metadata": {},
     "output_type": "display_data"
    }
   ],
   "source": [
    "countinuous_variable_plot('totalilhighcreditlimit')"
   ]
  },
  {
   "cell_type": "code",
   "execution_count": null,
   "metadata": {
    "collapsed": true
   },
   "outputs": [],
   "source": []
  }
 ],
 "metadata": {
  "anaconda-cloud": {},
  "kernelspec": {
   "display_name": "Python 3",
   "language": "python",
   "name": "python3"
  },
  "language_info": {
   "codemirror_mode": {
    "name": "ipython",
    "version": 3
   },
   "file_extension": ".py",
   "mimetype": "text/x-python",
   "name": "python",
   "nbconvert_exporter": "python",
   "pygments_lexer": "ipython3",
   "version": "3.6.3"
  },
  "toc": {
   "nav_menu": {},
   "number_sections": true,
   "sideBar": true,
   "skip_h1_title": false,
   "toc_cell": false,
   "toc_position": {},
   "toc_section_display": "block",
   "toc_window_display": false
  }
 },
 "nbformat": 4,
 "nbformat_minor": 1
}
