{
 "cells": [
  {
   "cell_type": "markdown",
   "metadata": {},
   "source": [
    "###  Fetch current listed loans through api, save as current_list.txt\n",
    "### Unify feature formats of current loans (to lower case) and 2014 loans (remove '_')\n",
    "### Find common features (93 in total) of current and 2014 loans, keep only the common features, loanstatus, issued for 2014 loans and save to loan_2014.csv"
   ]
  },
  {
   "cell_type": "code",
   "execution_count": 1,
   "metadata": {
    "collapsed": true
   },
   "outputs": [],
   "source": [
    "import pandas as pd\n",
    "import numpy as np\n",
    "import matplotlib.pyplot as plt\n",
    "%matplotlib inline"
   ]
  },
  {
   "cell_type": "code",
   "execution_count": 2,
   "metadata": {
    "collapsed": true
   },
   "outputs": [],
   "source": [
    "import json\n",
    "import requests"
   ]
  },
  {
   "cell_type": "markdown",
   "metadata": {},
   "source": [
    "## Get Current Data from Lending Club"
   ]
  },
  {
   "cell_type": "code",
   "execution_count": 3,
   "metadata": {
    "collapsed": true
   },
   "outputs": [],
   "source": [
    "api_key =open('apikey.txt','r').read()\n",
    "\n",
    "headers = {'Authorization':api_key}\n",
    "url='https://api.lendingclub.com/api/investor/v1/loans/listing'\n",
    "\n",
    "r=requests.get(url, headers=headers)"
   ]
  },
  {
   "cell_type": "code",
   "execution_count": 4,
   "metadata": {},
   "outputs": [
    {
     "data": {
      "text/plain": [
       "dict"
      ]
     },
     "execution_count": 4,
     "metadata": {},
     "output_type": "execute_result"
    }
   ],
   "source": [
    "type(r.json())"
   ]
  },
  {
   "cell_type": "code",
   "execution_count": 6,
   "metadata": {},
   "outputs": [
    {
     "data": {
      "text/plain": [
       "{u'asOfDate': u'2017-06-19T16:32:39.021-07:00',\n",
       " u'loans': [{u'accNowDelinq': 0,\n",
       "   u'accOpenPast24Mths': 3,\n",
       "   u'acceptD': u'2017-05-23T04:26:46.000-07:00',\n",
       "   u'addrState': u'CT',\n",
       "   u'addrZip': u'064xx',\n",
       "   u'allUtil': 36.9,\n",
       "   u'annualInc': 110000.0,\n",
       "   u'annualIncJoint': None,\n",
       "   u'applicationType': u'INDIVIDUAL',\n",
       "   u'avgCurBal': 4514,\n",
       "   u'bcOpenToBuy': 31957,\n",
       "   u'bcUtil': 25.5,\n",
       "   u'chargeoffWithin12Mths': 0,\n",
       "   u'collections12MthsExMed': 0,\n",
       "   u'creditPullD': u'2017-05-18T15:38:31.000-07:00',\n",
       "   u'delinq2Yrs': 1,\n",
       "   u'delinqAmnt': 0.0,\n",
       "   u'desc': None,\n",
       "   u'dti': 14.25,\n",
       "   u'dtiJoint': None,\n",
       "   u'earliestCrLine': u'1994-12-17T16:00:00.000-08:00',\n",
       "   u'empLength': 120,\n",
       "   u'empTitle': u'Firefighter ',\n",
       "   u'expD': u'2017-07-08T11:34:48.000-07:00',\n",
       "   u'expDefaultRate': 2.06,\n",
       "   u'ficoRangeHigh': 689,\n",
       "   u'ficoRangeLow': 685,\n",
       "   u'fundedAmount': 4000.0,\n",
       "   u'grade': u'A',\n",
       "   u'homeOwnership': u'MORTGAGE',\n",
       "   u'iLUtil': 57.5,\n",
       "   u'id': 109331274,\n",
       "   u'ilsExpD': u'2017-06-19T14:00:00.000-07:00',\n",
       "   u'initialListStatus': u'F',\n",
       "   u'inqFi': 0,\n",
       "   u'inqLast12m': 3,\n",
       "   u'inqLast6Mths': 1,\n",
       "   u'installment': 156.62,\n",
       "   u'intRate': 7.97,\n",
       "   u'investorCount': None,\n",
       "   u'isIncV': u'VERIFIED',\n",
       "   u'isIncVJoint': None,\n",
       "   u'listD': u'2017-06-19T14:00:00.000-07:00',\n",
       "   u'loanAmount': 5000.0,\n",
       "   u'maxBalBc': 3750.0,\n",
       "   u'memberId': 117523993,\n",
       "   u'moSinOldIlAcct': 165,\n",
       "   u'moSinOldRevTlOp': 269,\n",
       "   u'moSinRcntRevTlOp': 29,\n",
       "   u'moSinRcntTl': 12,\n",
       "   u'mortAcc': 3,\n",
       "   u'mthsSinceLastDelinq': 15,\n",
       "   u'mthsSinceLastMajorDerog': 33,\n",
       "   u'mthsSinceLastRecord': None,\n",
       "   u'mthsSinceRcntIl': 12,\n",
       "   u'mthsSinceRecentBc': 46,\n",
       "   u'mthsSinceRecentBcDlq': None,\n",
       "   u'mthsSinceRecentInq': 0,\n",
       "   u'mthsSinceRecentRevolDelinq': 15,\n",
       "   u'numAcctsEver120Ppd': 1,\n",
       "   u'numActvBcTl': 5,\n",
       "   u'numActvRevTl': 7,\n",
       "   u'numBcSats': 6,\n",
       "   u'numBcTl': 9,\n",
       "   u'numIlTl': 8,\n",
       "   u'numOpRevTl': 11,\n",
       "   u'numRevAccts': 16,\n",
       "   u'numRevTlBalGt0': 7,\n",
       "   u'numSats': 13,\n",
       "   u'numTl120dpd2m': 0,\n",
       "   u'numTl30dpd': 0,\n",
       "   u'numTl90gDpd24m': 0,\n",
       "   u'numTlOpPast12m': 1,\n",
       "   u'openAcc': 13,\n",
       "   u'openAcc6m': 0,\n",
       "   u'openIl12m': 1,\n",
       "   u'openIl24m': 2,\n",
       "   u'openIl6m': 2,\n",
       "   u'openRv12m': 0,\n",
       "   u'openRv24m': 0,\n",
       "   u'pctTlNvrDlq': 88,\n",
       "   u'percentBcGt75': 0.0,\n",
       "   u'pubRec': 0,\n",
       "   u'pubRecBankruptcies': 0,\n",
       "   u'purpose': u'other',\n",
       "   u'reviewStatus': u'APPROVED',\n",
       "   u'reviewStatusD': u'2017-06-19T10:22:55.000-07:00',\n",
       "   u'revolBal': 16223.0,\n",
       "   u'revolUtil': 32.0,\n",
       "   u'serviceFeeRate': 0.81,\n",
       "   u'subGrade': u'A5',\n",
       "   u'taxLiens': 0,\n",
       "   u'term': 36,\n",
       "   u'totCollAmt': 0,\n",
       "   u'totCurBal': 54173,\n",
       "   u'totHiCredLim': 98700,\n",
       "   u'totalAcc': 27,\n",
       "   u'totalBalExMort': 54173,\n",
       "   u'totalBalIl': 37950.0,\n",
       "   u'totalBcLimit': 42900,\n",
       "   u'totalCuTl': 1,\n",
       "   u'totalIlHighCreditLimit': 48000,\n",
       "   u'totalRevHiLim': 50700},\n",
       "  {u'accNowDelinq': 0,\n",
       "   u'accOpenPast24Mths': 4,\n",
       "   u'acceptD': u'2017-05-24T10:29:16.000-07:00',\n",
       "   u'addrState': u'AZ',\n",
       "   u'addrZip': u'852xx',\n",
       "   u'allUtil': 34.5,\n",
       "   u'annualInc': 124800.0,\n",
       "   u'annualIncJoint': None,\n",
       "   u'applicationType': u'INDIVIDUAL',\n",
       "   u'avgCurBal': 10314,\n",
       "   u'bcOpenToBuy': 49236,\n",
       "   u'bcUtil': 21.8,\n",
       "   u'chargeoffWithin12Mths': 0,\n",
       "   u'collections12MthsExMed': 0,\n",
       "   u'creditPullD': u'2017-05-17T21:26:32.000-07:00',\n",
       "   u'delinq2Yrs': 0,\n",
       "   u'delinqAmnt': 0.0,\n",
       "   u'desc': None,\n",
       "   u'dti': 16.38,\n",
       "   u'dtiJoint': None,\n",
       "   u'earliestCrLine': u'2005-06-17T17:00:00.000-07:00',\n",
       "   u'empLength': 0,\n",
       "   u'empTitle': u'Business Analyst',\n",
       "   u'expD': u'2017-07-08T10:36:30.000-07:00',\n",
       "   u'expDefaultRate': 10.49,\n",
       "   u'ficoRangeHigh': 759,\n",
       "   u'ficoRangeLow': 755,\n",
       "   u'fundedAmount': 11350.0,\n",
       "   u'grade': u'D',\n",
       "   u'homeOwnership': u'MORTGAGE',\n",
       "   u'iLUtil': 63.0,\n",
       "   u'id': 109645266,\n",
       "   u'ilsExpD': u'2017-06-19T14:00:00.000-07:00',\n",
       "   u'initialListStatus': u'F',\n",
       "   u'inqFi': 1,\n",
       "   u'inqLast12m': 8,\n",
       "   u'inqLast6Mths': 3,\n",
       "   u'installment': 557.46,\n",
       "   u'intRate': 20.0,\n",
       "   u'investorCount': None,\n",
       "   u'isIncV': u'NOT_VERIFIED',\n",
       "   u'isIncVJoint': None,\n",
       "   u'listD': u'2017-06-19T14:00:00.000-07:00',\n",
       "   u'loanAmount': 15000.0,\n",
       "   u'maxBalBc': 7975.0,\n",
       "   u'memberId': 117866254,\n",
       "   u'moSinOldIlAcct': 32,\n",
       "   u'moSinOldRevTlOp': 143,\n",
       "   u'moSinRcntRevTlOp': 3,\n",
       "   u'moSinRcntTl': 3,\n",
       "   u'mortAcc': 0,\n",
       "   u'mthsSinceLastDelinq': None,\n",
       "   u'mthsSinceLastMajorDerog': None,\n",
       "   u'mthsSinceLastRecord': None,\n",
       "   u'mthsSinceRcntIl': 4,\n",
       "   u'mthsSinceRecentBc': 3,\n",
       "   u'mthsSinceRecentBcDlq': None,\n",
       "   u'mthsSinceRecentInq': 0,\n",
       "   u'mthsSinceRecentRevolDelinq': None,\n",
       "   u'numAcctsEver120Ppd': 0,\n",
       "   u'numActvBcTl': 4,\n",
       "   u'numActvRevTl': 4,\n",
       "   u'numBcSats': 5,\n",
       "   u'numBcTl': 5,\n",
       "   u'numIlTl': 2,\n",
       "   u'numOpRevTl': 7,\n",
       "   u'numRevAccts': 9,\n",
       "   u'numRevTlBalGt0': 4,\n",
       "   u'numSats': 9,\n",
       "   u'numTl120dpd2m': 0,\n",
       "   u'numTl30dpd': 0,\n",
       "   u'numTl90gDpd24m': 0,\n",
       "   u'numTlOpPast12m': 3,\n",
       "   u'openAcc': 9,\n",
       "   u'openAcc6m': 3,\n",
       "   u'openIl12m': 1,\n",
       "   u'openIl24m': 1,\n",
       "   u'openIl6m': 1,\n",
       "   u'openRv12m': 2,\n",
       "   u'openRv24m': 3,\n",
       "   u'pctTlNvrDlq': 100,\n",
       "   u'percentBcGt75': 0.0,\n",
       "   u'pubRec': 0,\n",
       "   u'pubRecBankruptcies': 0,\n",
       "   u'purpose': u'credit_card',\n",
       "   u'reviewStatus': u'APPROVED',\n",
       "   u'reviewStatusD': u'2017-06-19T12:25:14.000-07:00',\n",
       "   u'revolBal': 13764.0,\n",
       "   u'revolUtil': 20.9,\n",
       "   u'serviceFeeRate': 1.24,\n",
       "   u'subGrade': u'D4',\n",
       "   u'taxLiens': 0,\n",
       "   u'term': 36,\n",
       "   u'totCollAmt': 0,\n",
       "   u'totCurBal': 92826,\n",
       "   u'totHiCredLim': 158313,\n",
       "   u'totalAcc': 11,\n",
       "   u'totalBalExMort': 92826,\n",
       "   u'totalBalIl': 79062.0,\n",
       "   u'totalBcLimit': 63000,\n",
       "   u'totalCuTl': 0,\n",
       "   u'totalIlHighCreditLimit': 92513,\n",
       "   u'totalRevHiLim': 65800},\n",
       "  {u'accNowDelinq': 0,\n",
       "   u'accOpenPast24Mths': 1,\n",
       "   u'acceptD': u'2017-05-25T08:38:21.000-07:00',\n",
       "   u'addrState': u'TX',\n",
       "   u'addrZip': u'782xx',\n",
       "   u'allUtil': 51.6,\n",
       "   u'annualInc': 9000.0,\n",
       "   u'annualIncJoint': 61000.0,\n",
       "   u'applicationType': u'JOINT',\n",
       "   u'avgCurBal': 1868,\n",
       "   u'bcOpenToBuy': 4440,\n",
       "   u'bcUtil': 83.4,\n",
       "   u'chargeoffWithin12Mths': 0,\n",
       "   u'collections12MthsExMed': 0,\n",
       "   u'creditPullD': u'2017-05-25T08:23:03.000-07:00',\n",
       "   u'delinq2Yrs': 0,\n",
       "   u'delinqAmnt': 0.0,\n",
       "   u'desc': None,\n",
       "   u'dti': 80.13,\n",
       "   u'dtiJoint': 13.02,\n",
       "   u'earliestCrLine': u'1995-10-24T17:00:00.000-07:00',\n",
       "   u'empLength': None,\n",
       "   u'empTitle': None,\n",
       "   u'expD': u'2017-07-09T08:41:28.000-07:00',\n",
       "   u'expDefaultRate': 6.59,\n",
       "   u'ficoRangeHigh': 689,\n",
       "   u'ficoRangeLow': 685,\n",
       "   u'fundedAmount': 15450.0,\n",
       "   u'grade': u'C',\n",
       "   u'homeOwnership': u'RENT',\n",
       "   u'iLUtil': None,\n",
       "   u'id': 107636481,\n",
       "   u'ilsExpD': u'2017-06-19T14:00:00.000-07:00',\n",
       "   u'initialListStatus': u'F',\n",
       "   u'inqFi': 0,\n",
       "   u'inqLast12m': 1,\n",
       "   u'inqLast6Mths': 0,\n",
       "   u'installment': 679.58,\n",
       "   u'intRate': 13.59,\n",
       "   u'investorCount': None,\n",
       "   u'isIncV': u'NOT_VERIFIED',\n",
       "   u'isIncVJoint': u'NOT_VERIFIED',\n",
       "   u'listD': u'2017-06-19T14:00:00.000-07:00',\n",
       "   u'loanAmount': 20000.0,\n",
       "   u'maxBalBc': 14371.0,\n",
       "   u'memberId': 115722419,\n",
       "   u'moSinOldIlAcct': 127,\n",
       "   u'moSinOldRevTlOp': 259,\n",
       "   u'moSinRcntRevTlOp': 17,\n",
       "   u'moSinRcntTl': 17,\n",
       "   u'mortAcc': 1,\n",
       "   u'mthsSinceLastDelinq': None,\n",
       "   u'mthsSinceLastMajorDerog': None,\n",
       "   u'mthsSinceLastRecord': 64,\n",
       "   u'mthsSinceRcntIl': 36,\n",
       "   u'mthsSinceRecentBc': 17,\n",
       "   u'mthsSinceRecentBcDlq': None,\n",
       "   u'mthsSinceRecentInq': 9,\n",
       "   u'mthsSinceRecentRevolDelinq': None,\n",
       "   u'numAcctsEver120Ppd': 0,\n",
       "   u'numActvBcTl': 4,\n",
       "   u'numActvRevTl': 5,\n",
       "   u'numBcSats': 7,\n",
       "   u'numBcTl': 8,\n",
       "   u'numIlTl': 2,\n",
       "   u'numOpRevTl': 13,\n",
       "   u'numRevAccts': 20,\n",
       "   u'numRevTlBalGt0': 5,\n",
       "   u'numSats': 13,\n",
       "   u'numTl120dpd2m': 0,\n",
       "   u'numTl30dpd': 0,\n",
       "   u'numTl90gDpd24m': 0,\n",
       "   u'numTlOpPast12m': 0,\n",
       "   u'openAcc': 13,\n",
       "   u'openAcc6m': 0,\n",
       "   u'openIl12m': 0,\n",
       "   u'openIl24m': 0,\n",
       "   u'openIl6m': 0,\n",
       "   u'openRv12m': 0,\n",
       "   u'openRv24m': 1,\n",
       "   u'pctTlNvrDlq': 100,\n",
       "   u'percentBcGt75': 66.7,\n",
       "   u'pubRec': 1,\n",
       "   u'pubRecBankruptcies': 0,\n",
       "   u'purpose': u'credit_card',\n",
       "   u'reviewStatus': u'APPROVED',\n",
       "   u'reviewStatusD': u'2017-06-19T11:00:53.000-07:00',\n",
       "   u'revolBal': 22410.0,\n",
       "   u'revolUtil': 51.6,\n",
       "   u'serviceFeeRate': 1.05,\n",
       "   u'subGrade': u'C2',\n",
       "   u'taxLiens': 0,\n",
       "   u'term': 36,\n",
       "   u'totCollAmt': 0,\n",
       "   u'totCurBal': 22410,\n",
       "   u'totHiCredLim': 43400,\n",
       "   u'totalAcc': 24,\n",
       "   u'totalBalExMort': 22410,\n",
       "   u'totalBalIl': 0.0,\n",
       "   u'totalBcLimit': 26700,\n",
       "   u'totalCuTl': 1,\n",
       "   u'totalIlHighCreditLimit': 0,\n",
       "   u'totalRevHiLim': 43400},\n",
       "  {u'accNowDelinq': 0,\n",
       "   u'accOpenPast24Mths': 2,\n",
       "   u'acceptD': u'2017-06-05T19:47:45.000-07:00',\n",
       "   u'addrState': u'MO',\n",
       "   u'addrZip': u'657xx',\n",
       "   u'allUtil': 49.1,\n",
       "   u'annualInc': 65000.0,\n",
       "   u'annualIncJoint': None,\n",
       "   u'applicationType': u'INDIVIDUAL',\n",
       "   u'avgCurBal': 3976,\n",
       "   u'bcOpenToBuy': 25663,\n",
       "   u'bcUtil': 48.2,\n",
       "   u'chargeoffWithin12Mths': 0,\n",
       "   u'collections12MthsExMed': 0,\n",
       "   u'creditPullD': u'2017-06-04T15:21:10.000-07:00',\n",
       "   u'delinq2Yrs': 0,\n",
       "   u'delinqAmnt': 0.0,\n",
       "   u'desc': None,\n",
       "   u'dti': 34.4,\n",
       "   u'dtiJoint': None,\n",
       "   u'earliestCrLine': u'1994-07-03T17:00:00.000-07:00',\n",
       "   u'empLength': 120,\n",
       "   u'empTitle': u'Manager/CSR',\n",
       "   u'expD': u'2017-07-19T14:00:00.000-07:00',\n",
       "   u'expDefaultRate': 14.52,\n",
       "   u'ficoRangeHigh': 744,\n",
       "   u'ficoRangeLow': 740,\n",
       "   u'fundedAmount': 17975.0,\n",
       "   u'grade': u'E',\n",
       "   u'homeOwnership': u'OWN',\n",
       "   u'iLUtil': 68.2,\n",
       "   u'id': 107350603,\n",
       "   u'ilsExpD': u'2017-06-19T14:00:00.000-07:00',\n",
       "   u'initialListStatus': u'F',\n",
       "   u'inqFi': 1,\n",
       "   u'inqLast12m': 1,\n",
       "   u'inqLast6Mths': 1,\n",
       "   u'installment': 903.55,\n",
       "   u'intRate': 26.3,\n",
       "   u'investorCount': None,\n",
       "   u'isIncV': u'SOURCE_VERIFIED',\n",
       "   u'isIncVJoint': None,\n",
       "   u'listD': u'2017-06-19T14:00:00.000-07:00',\n",
       "   u'loanAmount': 30000.0,\n",
       "   u'maxBalBc': 8335.0,\n",
       "   u'memberId': 115428572,\n",
       "   u'moSinOldIlAcct': 136,\n",
       "   u'moSinOldRevTlOp': 275,\n",
       "   u'moSinRcntRevTlOp': 54,\n",
       "   u'moSinRcntTl': 3,\n",
       "   u'mortAcc': 5,\n",
       "   u'mthsSinceLastDelinq': None,\n",
       "   u'mthsSinceLastMajorDerog': None,\n",
       "   u'mthsSinceLastRecord': None,\n",
       "   u'mthsSinceRcntIl': 3,\n",
       "   u'mthsSinceRecentBc': 54,\n",
       "   u'mthsSinceRecentBcDlq': None,\n",
       "   u'mthsSinceRecentInq': 5,\n",
       "   u'mthsSinceRecentRevolDelinq': None,\n",
       "   u'numAcctsEver120Ppd': 0,\n",
       "   u'numActvBcTl': 4,\n",
       "   u'numActvRevTl': 8,\n",
       "   u'numBcSats': 8,\n",
       "   u'numBcTl': 10,\n",
       "   u'numIlTl': 9,\n",
       "   u'numOpRevTl': 13,\n",
       "   u'numRevAccts': 18,\n",
       "   u'numRevTlBalGt0': 8,\n",
       "   u'numSats': 15,\n",
       "   u'numTl120dpd2m': 0,\n",
       "   u'numTl30dpd': 0,\n",
       "   u'numTl90gDpd24m': 0,\n",
       "   u'numTlOpPast12m': 1,\n",
       "   u'openAcc': 15,\n",
       "   u'openAcc6m': 1,\n",
       "   u'openIl12m': 1,\n",
       "   u'openIl24m': 2,\n",
       "   u'openIl6m': 2,\n",
       "   u'openRv12m': 0,\n",
       "   u'openRv24m': 0,\n",
       "   u'pctTlNvrDlq': 100,\n",
       "   u'percentBcGt75': 25.0,\n",
       "   u'pubRec': 0,\n",
       "   u'pubRecBankruptcies': 0,\n",
       "   u'purpose': u'debt_consolidation',\n",
       "   u'reviewStatus': u'APPROVED',\n",
       "   u'reviewStatusD': u'2017-06-19T10:54:53.000-07:00',\n",
       "   u'revolBal': 33741.0,\n",
       "   u'revolUtil': 40.4,\n",
       "   u'serviceFeeRate': 1.09,\n",
       "   u'subGrade': u'E5',\n",
       "   u'taxLiens': 0,\n",
       "   u'term': 60,\n",
       "   u'totCollAmt': 0,\n",
       "   u'totCurBal': 59645,\n",
       "   u'totHiCredLim': 121583,\n",
       "   u'totalAcc': 32,\n",
       "   u'totalBalExMort': 59645,\n",
       "   u'totalBalIl': 25904.0,\n",
       "   u'totalBcLimit': 49500,\n",
       "   u'totalCuTl': 4,\n",
       "   u'totalIlHighCreditLimit': 37983,\n",
       "   u'totalRevHiLim': 83600}]}"
      ]
     },
     "execution_count": 6,
     "metadata": {},
     "output_type": "execute_result"
    }
   ],
   "source": [
    "r.json()"
   ]
  },
  {
   "cell_type": "code",
   "execution_count": 7,
   "metadata": {
    "collapsed": true
   },
   "outputs": [],
   "source": [
    "data = r.json()\n",
    "myData =data['loans']"
   ]
  },
  {
   "cell_type": "markdown",
   "metadata": {},
   "source": [
    "## with open() as"
   ]
  },
  {
   "cell_type": "code",
   "execution_count": 8,
   "metadata": {
    "collapsed": true
   },
   "outputs": [],
   "source": [
    "with open('current_list.txt', 'w') as outfile:\n",
    "    json.dump(myData, outfile)"
   ]
  },
  {
   "cell_type": "code",
   "execution_count": 9,
   "metadata": {
    "collapsed": true
   },
   "outputs": [],
   "source": [
    "df_current=pd.read_json('current_list.txt')"
   ]
  },
  {
   "cell_type": "code",
   "execution_count": 10,
   "metadata": {},
   "outputs": [
    {
     "data": {
      "text/html": [
       "<div>\n",
       "<table border=\"1\" class=\"dataframe\">\n",
       "  <thead>\n",
       "    <tr style=\"text-align: right;\">\n",
       "      <th></th>\n",
       "      <th>accNowDelinq</th>\n",
       "      <th>accOpenPast24Mths</th>\n",
       "      <th>acceptD</th>\n",
       "      <th>addrState</th>\n",
       "      <th>addrZip</th>\n",
       "      <th>allUtil</th>\n",
       "      <th>annualInc</th>\n",
       "      <th>annualIncJoint</th>\n",
       "      <th>applicationType</th>\n",
       "      <th>avgCurBal</th>\n",
       "      <th>...</th>\n",
       "      <th>totCollAmt</th>\n",
       "      <th>totCurBal</th>\n",
       "      <th>totHiCredLim</th>\n",
       "      <th>totalAcc</th>\n",
       "      <th>totalBalExMort</th>\n",
       "      <th>totalBalIl</th>\n",
       "      <th>totalBcLimit</th>\n",
       "      <th>totalCuTl</th>\n",
       "      <th>totalIlHighCreditLimit</th>\n",
       "      <th>totalRevHiLim</th>\n",
       "    </tr>\n",
       "  </thead>\n",
       "  <tbody>\n",
       "    <tr>\n",
       "      <th>0</th>\n",
       "      <td>0</td>\n",
       "      <td>3</td>\n",
       "      <td>2017-05-23T04:26:46.000-07:00</td>\n",
       "      <td>CT</td>\n",
       "      <td>064xx</td>\n",
       "      <td>36.9</td>\n",
       "      <td>110000</td>\n",
       "      <td>NaN</td>\n",
       "      <td>INDIVIDUAL</td>\n",
       "      <td>4514</td>\n",
       "      <td>...</td>\n",
       "      <td>0</td>\n",
       "      <td>54173</td>\n",
       "      <td>98700</td>\n",
       "      <td>27</td>\n",
       "      <td>54173</td>\n",
       "      <td>37950</td>\n",
       "      <td>42900</td>\n",
       "      <td>1</td>\n",
       "      <td>48000</td>\n",
       "      <td>50700</td>\n",
       "    </tr>\n",
       "    <tr>\n",
       "      <th>1</th>\n",
       "      <td>0</td>\n",
       "      <td>4</td>\n",
       "      <td>2017-05-24T10:29:16.000-07:00</td>\n",
       "      <td>AZ</td>\n",
       "      <td>852xx</td>\n",
       "      <td>34.5</td>\n",
       "      <td>124800</td>\n",
       "      <td>NaN</td>\n",
       "      <td>INDIVIDUAL</td>\n",
       "      <td>10314</td>\n",
       "      <td>...</td>\n",
       "      <td>0</td>\n",
       "      <td>92826</td>\n",
       "      <td>158313</td>\n",
       "      <td>11</td>\n",
       "      <td>92826</td>\n",
       "      <td>79062</td>\n",
       "      <td>63000</td>\n",
       "      <td>0</td>\n",
       "      <td>92513</td>\n",
       "      <td>65800</td>\n",
       "    </tr>\n",
       "    <tr>\n",
       "      <th>2</th>\n",
       "      <td>0</td>\n",
       "      <td>1</td>\n",
       "      <td>2017-05-25T08:38:21.000-07:00</td>\n",
       "      <td>TX</td>\n",
       "      <td>782xx</td>\n",
       "      <td>51.6</td>\n",
       "      <td>9000</td>\n",
       "      <td>61000.0</td>\n",
       "      <td>JOINT</td>\n",
       "      <td>1868</td>\n",
       "      <td>...</td>\n",
       "      <td>0</td>\n",
       "      <td>22410</td>\n",
       "      <td>43400</td>\n",
       "      <td>24</td>\n",
       "      <td>22410</td>\n",
       "      <td>0</td>\n",
       "      <td>26700</td>\n",
       "      <td>1</td>\n",
       "      <td>0</td>\n",
       "      <td>43400</td>\n",
       "    </tr>\n",
       "    <tr>\n",
       "      <th>3</th>\n",
       "      <td>0</td>\n",
       "      <td>2</td>\n",
       "      <td>2017-06-05T19:47:45.000-07:00</td>\n",
       "      <td>MO</td>\n",
       "      <td>657xx</td>\n",
       "      <td>49.1</td>\n",
       "      <td>65000</td>\n",
       "      <td>NaN</td>\n",
       "      <td>INDIVIDUAL</td>\n",
       "      <td>3976</td>\n",
       "      <td>...</td>\n",
       "      <td>0</td>\n",
       "      <td>59645</td>\n",
       "      <td>121583</td>\n",
       "      <td>32</td>\n",
       "      <td>59645</td>\n",
       "      <td>25904</td>\n",
       "      <td>49500</td>\n",
       "      <td>4</td>\n",
       "      <td>37983</td>\n",
       "      <td>83600</td>\n",
       "    </tr>\n",
       "  </tbody>\n",
       "</table>\n",
       "<p>4 rows × 103 columns</p>\n",
       "</div>"
      ],
      "text/plain": [
       "   accNowDelinq  accOpenPast24Mths                        acceptD addrState  \\\n",
       "0             0                  3  2017-05-23T04:26:46.000-07:00        CT   \n",
       "1             0                  4  2017-05-24T10:29:16.000-07:00        AZ   \n",
       "2             0                  1  2017-05-25T08:38:21.000-07:00        TX   \n",
       "3             0                  2  2017-06-05T19:47:45.000-07:00        MO   \n",
       "\n",
       "  addrZip  allUtil  annualInc  annualIncJoint applicationType  avgCurBal  \\\n",
       "0   064xx     36.9     110000             NaN      INDIVIDUAL       4514   \n",
       "1   852xx     34.5     124800             NaN      INDIVIDUAL      10314   \n",
       "2   782xx     51.6       9000         61000.0           JOINT       1868   \n",
       "3   657xx     49.1      65000             NaN      INDIVIDUAL       3976   \n",
       "\n",
       "       ...        totCollAmt  totCurBal  totHiCredLim  totalAcc  \\\n",
       "0      ...                 0      54173         98700        27   \n",
       "1      ...                 0      92826        158313        11   \n",
       "2      ...                 0      22410         43400        24   \n",
       "3      ...                 0      59645        121583        32   \n",
       "\n",
       "  totalBalExMort  totalBalIl  totalBcLimit  totalCuTl  totalIlHighCreditLimit  \\\n",
       "0          54173       37950         42900          1                   48000   \n",
       "1          92826       79062         63000          0                   92513   \n",
       "2          22410           0         26700          1                       0   \n",
       "3          59645       25904         49500          4                   37983   \n",
       "\n",
       "   totalRevHiLim  \n",
       "0          50700  \n",
       "1          65800  \n",
       "2          43400  \n",
       "3          83600  \n",
       "\n",
       "[4 rows x 103 columns]"
      ]
     },
     "execution_count": 10,
     "metadata": {},
     "output_type": "execute_result"
    }
   ],
   "source": [
    "# why we only get few loans through api, but there are much more listed on the lending club website?  -- Might because API only \n",
    "# gives you the data from the latest update.\n",
    "\n",
    "df_current.tail()"
   ]
  },
  {
   "cell_type": "code",
   "execution_count": 11,
   "metadata": {
    "collapsed": true
   },
   "outputs": [],
   "source": [
    "# A better way to read a json file (can read json to data frame with more complex structure)\n",
    "\n",
    "df_current = pd.io.json.json_normalize(myData)"
   ]
  },
  {
   "cell_type": "code",
   "execution_count": 12,
   "metadata": {
    "scrolled": true
   },
   "outputs": [
    {
     "data": {
      "text/html": [
       "<div>\n",
       "<table border=\"1\" class=\"dataframe\">\n",
       "  <thead>\n",
       "    <tr style=\"text-align: right;\">\n",
       "      <th></th>\n",
       "      <th>accNowDelinq</th>\n",
       "      <th>accOpenPast24Mths</th>\n",
       "      <th>acceptD</th>\n",
       "      <th>addrState</th>\n",
       "      <th>addrZip</th>\n",
       "      <th>allUtil</th>\n",
       "      <th>annualInc</th>\n",
       "      <th>annualIncJoint</th>\n",
       "      <th>applicationType</th>\n",
       "      <th>avgCurBal</th>\n",
       "      <th>...</th>\n",
       "      <th>totCollAmt</th>\n",
       "      <th>totCurBal</th>\n",
       "      <th>totHiCredLim</th>\n",
       "      <th>totalAcc</th>\n",
       "      <th>totalBalExMort</th>\n",
       "      <th>totalBalIl</th>\n",
       "      <th>totalBcLimit</th>\n",
       "      <th>totalCuTl</th>\n",
       "      <th>totalIlHighCreditLimit</th>\n",
       "      <th>totalRevHiLim</th>\n",
       "    </tr>\n",
       "  </thead>\n",
       "  <tbody>\n",
       "    <tr>\n",
       "      <th>0</th>\n",
       "      <td>0</td>\n",
       "      <td>3</td>\n",
       "      <td>2017-05-23T04:26:46.000-07:00</td>\n",
       "      <td>CT</td>\n",
       "      <td>064xx</td>\n",
       "      <td>36.9</td>\n",
       "      <td>110000.0</td>\n",
       "      <td>NaN</td>\n",
       "      <td>INDIVIDUAL</td>\n",
       "      <td>4514</td>\n",
       "      <td>...</td>\n",
       "      <td>0</td>\n",
       "      <td>54173</td>\n",
       "      <td>98700</td>\n",
       "      <td>27</td>\n",
       "      <td>54173</td>\n",
       "      <td>37950.0</td>\n",
       "      <td>42900</td>\n",
       "      <td>1</td>\n",
       "      <td>48000</td>\n",
       "      <td>50700</td>\n",
       "    </tr>\n",
       "    <tr>\n",
       "      <th>1</th>\n",
       "      <td>0</td>\n",
       "      <td>4</td>\n",
       "      <td>2017-05-24T10:29:16.000-07:00</td>\n",
       "      <td>AZ</td>\n",
       "      <td>852xx</td>\n",
       "      <td>34.5</td>\n",
       "      <td>124800.0</td>\n",
       "      <td>NaN</td>\n",
       "      <td>INDIVIDUAL</td>\n",
       "      <td>10314</td>\n",
       "      <td>...</td>\n",
       "      <td>0</td>\n",
       "      <td>92826</td>\n",
       "      <td>158313</td>\n",
       "      <td>11</td>\n",
       "      <td>92826</td>\n",
       "      <td>79062.0</td>\n",
       "      <td>63000</td>\n",
       "      <td>0</td>\n",
       "      <td>92513</td>\n",
       "      <td>65800</td>\n",
       "    </tr>\n",
       "    <tr>\n",
       "      <th>2</th>\n",
       "      <td>0</td>\n",
       "      <td>1</td>\n",
       "      <td>2017-05-25T08:38:21.000-07:00</td>\n",
       "      <td>TX</td>\n",
       "      <td>782xx</td>\n",
       "      <td>51.6</td>\n",
       "      <td>9000.0</td>\n",
       "      <td>61000.0</td>\n",
       "      <td>JOINT</td>\n",
       "      <td>1868</td>\n",
       "      <td>...</td>\n",
       "      <td>0</td>\n",
       "      <td>22410</td>\n",
       "      <td>43400</td>\n",
       "      <td>24</td>\n",
       "      <td>22410</td>\n",
       "      <td>0.0</td>\n",
       "      <td>26700</td>\n",
       "      <td>1</td>\n",
       "      <td>0</td>\n",
       "      <td>43400</td>\n",
       "    </tr>\n",
       "    <tr>\n",
       "      <th>3</th>\n",
       "      <td>0</td>\n",
       "      <td>2</td>\n",
       "      <td>2017-06-05T19:47:45.000-07:00</td>\n",
       "      <td>MO</td>\n",
       "      <td>657xx</td>\n",
       "      <td>49.1</td>\n",
       "      <td>65000.0</td>\n",
       "      <td>NaN</td>\n",
       "      <td>INDIVIDUAL</td>\n",
       "      <td>3976</td>\n",
       "      <td>...</td>\n",
       "      <td>0</td>\n",
       "      <td>59645</td>\n",
       "      <td>121583</td>\n",
       "      <td>32</td>\n",
       "      <td>59645</td>\n",
       "      <td>25904.0</td>\n",
       "      <td>49500</td>\n",
       "      <td>4</td>\n",
       "      <td>37983</td>\n",
       "      <td>83600</td>\n",
       "    </tr>\n",
       "  </tbody>\n",
       "</table>\n",
       "<p>4 rows × 103 columns</p>\n",
       "</div>"
      ],
      "text/plain": [
       "   accNowDelinq  accOpenPast24Mths                        acceptD addrState  \\\n",
       "0             0                  3  2017-05-23T04:26:46.000-07:00        CT   \n",
       "1             0                  4  2017-05-24T10:29:16.000-07:00        AZ   \n",
       "2             0                  1  2017-05-25T08:38:21.000-07:00        TX   \n",
       "3             0                  2  2017-06-05T19:47:45.000-07:00        MO   \n",
       "\n",
       "  addrZip  allUtil  annualInc  annualIncJoint applicationType  avgCurBal  \\\n",
       "0   064xx     36.9   110000.0             NaN      INDIVIDUAL       4514   \n",
       "1   852xx     34.5   124800.0             NaN      INDIVIDUAL      10314   \n",
       "2   782xx     51.6     9000.0         61000.0           JOINT       1868   \n",
       "3   657xx     49.1    65000.0             NaN      INDIVIDUAL       3976   \n",
       "\n",
       "       ...        totCollAmt  totCurBal  totHiCredLim  totalAcc  \\\n",
       "0      ...                 0      54173         98700        27   \n",
       "1      ...                 0      92826        158313        11   \n",
       "2      ...                 0      22410         43400        24   \n",
       "3      ...                 0      59645        121583        32   \n",
       "\n",
       "  totalBalExMort  totalBalIl  totalBcLimit totalCuTl  totalIlHighCreditLimit  \\\n",
       "0          54173     37950.0         42900         1                   48000   \n",
       "1          92826     79062.0         63000         0                   92513   \n",
       "2          22410         0.0         26700         1                       0   \n",
       "3          59645     25904.0         49500         4                   37983   \n",
       "\n",
       "   totalRevHiLim  \n",
       "0          50700  \n",
       "1          65800  \n",
       "2          43400  \n",
       "3          83600  \n",
       "\n",
       "[4 rows x 103 columns]"
      ]
     },
     "execution_count": 12,
     "metadata": {},
     "output_type": "execute_result"
    }
   ],
   "source": [
    "df_current.tail()"
   ]
  },
  {
   "cell_type": "markdown",
   "metadata": {},
   "source": [
    "## Historical Data"
   ]
  },
  {
   "cell_type": "code",
   "execution_count": 13,
   "metadata": {},
   "outputs": [
    {
     "name": "stderr",
     "output_type": "stream",
     "text": [
      "C:\\Users\\Weiqun\\Anaconda2\\lib\\site-packages\\IPython\\core\\interactiveshell.py:2723: DtypeWarning: Columns (0,19) have mixed types. Specify dtype option on import or set low_memory=False.\n",
      "  interactivity=interactivity, compiler=compiler, result=result)\n"
     ]
    }
   ],
   "source": [
    "df_2014 = pd.read_csv('Loan2014_05302017.csv', skiprows=1)"
   ]
  },
  {
   "cell_type": "code",
   "execution_count": 14,
   "metadata": {},
   "outputs": [
    {
     "name": "stdout",
     "output_type": "stream",
     "text": [
      "         id  member_id  loan_amnt  funded_amnt  funded_amnt_inv        term  \\\n",
      "0  36805548        NaN    10400.0      10400.0          10400.0   36 months   \n",
      "1  38098114        NaN    15000.0      15000.0          15000.0   60 months   \n",
      "2  37842129        NaN    21425.0      21425.0          21425.0   60 months   \n",
      "3  37662224        NaN     7650.0       7650.0           7650.0   36 months   \n",
      "4  37822187        NaN     9600.0       9600.0           9600.0   36 months   \n",
      "\n",
      "  int_rate  installment grade sub_grade                 ...                  \\\n",
      "0    6.99%       321.08     A        A3                 ...                   \n",
      "1   12.39%       336.64     C        C1                 ...                   \n",
      "2   15.59%       516.36     D        D1                 ...                   \n",
      "3   13.66%       260.20     C        C3                 ...                   \n",
      "4   13.66%       326.53     C        C3                 ...                   \n",
      "\n",
      "  sec_app_earliest_cr_line sec_app_inq_last_6mths sec_app_mort_acc  \\\n",
      "0                      NaN                    NaN              NaN   \n",
      "1                      NaN                    NaN              NaN   \n",
      "2                      NaN                    NaN              NaN   \n",
      "3                      NaN                    NaN              NaN   \n",
      "4                      NaN                    NaN              NaN   \n",
      "\n",
      "   sec_app_open_acc sec_app_revol_util sec_app_open_il_6m  \\\n",
      "0               NaN                NaN                NaN   \n",
      "1               NaN                NaN                NaN   \n",
      "2               NaN                NaN                NaN   \n",
      "3               NaN                NaN                NaN   \n",
      "4               NaN                NaN                NaN   \n",
      "\n",
      "  sec_app_num_rev_accts sec_app_chargeoff_within_12_mths  \\\n",
      "0                   NaN                              NaN   \n",
      "1                   NaN                              NaN   \n",
      "2                   NaN                              NaN   \n",
      "3                   NaN                              NaN   \n",
      "4                   NaN                              NaN   \n",
      "\n",
      "  sec_app_collections_12_mths_ex_med sec_app_mths_since_last_major_derog  \n",
      "0                                NaN                                 NaN  \n",
      "1                                NaN                                 NaN  \n",
      "2                                NaN                                 NaN  \n",
      "3                                NaN                                 NaN  \n",
      "4                                NaN                                 NaN  \n",
      "\n",
      "[5 rows x 128 columns]\n"
     ]
    }
   ],
   "source": [
    "print df_2014.head()"
   ]
  },
  {
   "cell_type": "code",
   "execution_count": 15,
   "metadata": {},
   "outputs": [
    {
     "data": {
      "text/plain": [
       "(235631, 128)"
      ]
     },
     "execution_count": 15,
     "metadata": {},
     "output_type": "execute_result"
    }
   ],
   "source": [
    "df_2014.shape"
   ]
  },
  {
   "cell_type": "code",
   "execution_count": 16,
   "metadata": {},
   "outputs": [
    {
     "name": "stdout",
     "output_type": "stream",
     "text": [
      "----------current-----------------\n",
      "accNowDelinq\n",
      "accOpenPast24Mths\n",
      "acceptD\n",
      "addrState\n",
      "addrZip\n",
      "allUtil\n",
      "annualInc\n",
      "annualIncJoint\n",
      "applicationType\n",
      "avgCurBal\n",
      "bcOpenToBuy\n",
      "bcUtil\n",
      "chargeoffWithin12Mths\n",
      "collections12MthsExMed\n",
      "creditPullD\n",
      "delinq2Yrs\n",
      "delinqAmnt\n",
      "desc\n",
      "dti\n",
      "dtiJoint\n",
      "earliestCrLine\n",
      "empLength\n",
      "empTitle\n",
      "expD\n",
      "expDefaultRate\n",
      "ficoRangeHigh\n",
      "ficoRangeLow\n",
      "fundedAmount\n",
      "grade\n",
      "homeOwnership\n",
      "iLUtil\n",
      "id\n",
      "ilsExpD\n",
      "initialListStatus\n",
      "inqFi\n",
      "inqLast12m\n",
      "inqLast6Mths\n",
      "installment\n",
      "intRate\n",
      "investorCount\n",
      "isIncV\n",
      "isIncVJoint\n",
      "listD\n",
      "loanAmount\n",
      "maxBalBc\n",
      "memberId\n",
      "moSinOldIlAcct\n",
      "moSinOldRevTlOp\n",
      "moSinRcntRevTlOp\n",
      "moSinRcntTl\n",
      "mortAcc\n",
      "mthsSinceLastDelinq\n",
      "mthsSinceLastMajorDerog\n",
      "mthsSinceLastRecord\n",
      "mthsSinceRcntIl\n",
      "mthsSinceRecentBc\n",
      "mthsSinceRecentBcDlq\n",
      "mthsSinceRecentInq\n",
      "mthsSinceRecentRevolDelinq\n",
      "numAcctsEver120Ppd\n",
      "numActvBcTl\n",
      "numActvRevTl\n",
      "numBcSats\n",
      "numBcTl\n",
      "numIlTl\n",
      "numOpRevTl\n",
      "numRevAccts\n",
      "numRevTlBalGt0\n",
      "numSats\n",
      "numTl120dpd2m\n",
      "numTl30dpd\n",
      "numTl90gDpd24m\n",
      "numTlOpPast12m\n",
      "openAcc\n",
      "openAcc6m\n",
      "openIl12m\n",
      "openIl24m\n",
      "openIl6m\n",
      "openRv12m\n",
      "openRv24m\n",
      "pctTlNvrDlq\n",
      "percentBcGt75\n",
      "pubRec\n",
      "pubRecBankruptcies\n",
      "purpose\n",
      "reviewStatus\n",
      "reviewStatusD\n",
      "revolBal\n",
      "revolUtil\n",
      "serviceFeeRate\n",
      "subGrade\n",
      "taxLiens\n",
      "term\n",
      "totCollAmt\n",
      "totCurBal\n",
      "totHiCredLim\n",
      "totalAcc\n",
      "totalBalExMort\n",
      "totalBalIl\n",
      "totalBcLimit\n",
      "totalCuTl\n",
      "totalIlHighCreditLimit\n",
      "totalRevHiLim\n",
      "----------current-----------------\n"
     ]
    }
   ],
   "source": [
    "print '----------current-----------------'\n",
    "for col in df_current.columns.values:\n",
    "    print col\n",
    "print '----------current-----------------'"
   ]
  },
  {
   "cell_type": "code",
   "execution_count": 17,
   "metadata": {},
   "outputs": [
    {
     "name": "stdout",
     "output_type": "stream",
     "text": [
      "----------2014-----------------\n",
      "id\n",
      "member_id\n",
      "loan_amnt\n",
      "funded_amnt\n",
      "funded_amnt_inv\n",
      "term\n",
      "int_rate\n",
      "installment\n",
      "grade\n",
      "sub_grade\n",
      "emp_title\n",
      "emp_length\n",
      "home_ownership\n",
      "annual_inc\n",
      "verification_status\n",
      "issue_d\n",
      "loan_status\n",
      "pymnt_plan\n",
      "url\n",
      "desc\n",
      "purpose\n",
      "title\n",
      "zip_code\n",
      "addr_state\n",
      "dti\n",
      "delinq_2yrs\n",
      "earliest_cr_line\n",
      "fico_range_low\n",
      "fico_range_high\n",
      "inq_last_6mths\n",
      "mths_since_last_delinq\n",
      "mths_since_last_record\n",
      "open_acc\n",
      "pub_rec\n",
      "revol_bal\n",
      "revol_util\n",
      "total_acc\n",
      "initial_list_status\n",
      "out_prncp\n",
      "out_prncp_inv\n",
      "total_pymnt\n",
      "total_pymnt_inv\n",
      "total_rec_prncp\n",
      "total_rec_int\n",
      "total_rec_late_fee\n",
      "recoveries\n",
      "collection_recovery_fee\n",
      "last_pymnt_d\n",
      "last_pymnt_amnt\n",
      "next_pymnt_d\n",
      "last_credit_pull_d\n",
      "last_fico_range_high\n",
      "last_fico_range_low\n",
      "collections_12_mths_ex_med\n",
      "mths_since_last_major_derog\n",
      "policy_code\n",
      "application_type\n",
      "annual_inc_joint\n",
      "dti_joint\n",
      "verification_status_joint\n",
      "acc_now_delinq\n",
      "tot_coll_amt\n",
      "tot_cur_bal\n",
      "open_acc_6m\n",
      "open_il_6m\n",
      "open_il_12m\n",
      "open_il_24m\n",
      "mths_since_rcnt_il\n",
      "total_bal_il\n",
      "il_util\n",
      "open_rv_12m\n",
      "open_rv_24m\n",
      "max_bal_bc\n",
      "all_util\n",
      "total_rev_hi_lim\n",
      "inq_fi\n",
      "total_cu_tl\n",
      "inq_last_12m\n",
      "acc_open_past_24mths\n",
      "avg_cur_bal\n",
      "bc_open_to_buy\n",
      "bc_util\n",
      "chargeoff_within_12_mths\n",
      "delinq_amnt\n",
      "mo_sin_old_il_acct\n",
      "mo_sin_old_rev_tl_op\n",
      "mo_sin_rcnt_rev_tl_op\n",
      "mo_sin_rcnt_tl\n",
      "mort_acc\n",
      "mths_since_recent_bc\n",
      "mths_since_recent_bc_dlq\n",
      "mths_since_recent_inq\n",
      "mths_since_recent_revol_delinq\n",
      "num_accts_ever_120_pd\n",
      "num_actv_bc_tl\n",
      "num_actv_rev_tl\n",
      "num_bc_sats\n",
      "num_bc_tl\n",
      "num_il_tl\n",
      "num_op_rev_tl\n",
      "num_rev_accts\n",
      "num_rev_tl_bal_gt_0\n",
      "num_sats\n",
      "num_tl_120dpd_2m\n",
      "num_tl_30dpd\n",
      "num_tl_90g_dpd_24m\n",
      "num_tl_op_past_12m\n",
      "pct_tl_nvr_dlq\n",
      "percent_bc_gt_75\n",
      "pub_rec_bankruptcies\n",
      "tax_liens\n",
      "tot_hi_cred_lim\n",
      "total_bal_ex_mort\n",
      "total_bc_limit\n",
      "total_il_high_credit_limit\n",
      "revol_bal_joint\n",
      "sec_app_fico_range_low\n",
      "sec_app_fico_range_high\n",
      "sec_app_earliest_cr_line\n",
      "sec_app_inq_last_6mths\n",
      "sec_app_mort_acc\n",
      "sec_app_open_acc\n",
      "sec_app_revol_util\n",
      "sec_app_open_il_6m\n",
      "sec_app_num_rev_accts\n",
      "sec_app_chargeoff_within_12_mths\n",
      "sec_app_collections_12_mths_ex_med\n",
      "sec_app_mths_since_last_major_derog\n",
      "----------2014-----------------\n"
     ]
    }
   ],
   "source": [
    "print '----------2014-----------------'\n",
    "for col in df_2014.columns.values:\n",
    "    print col\n",
    "print '----------2014-----------------'"
   ]
  },
  {
   "cell_type": "markdown",
   "metadata": {},
   "source": [
    "## Format conversion of feature names "
   ]
  },
  {
   "cell_type": "code",
   "execution_count": 18,
   "metadata": {
    "collapsed": true
   },
   "outputs": [],
   "source": [
    "current_feature = list(df_current.columns.values)"
   ]
  },
  {
   "cell_type": "code",
   "execution_count": 19,
   "metadata": {
    "collapsed": true
   },
   "outputs": [],
   "source": [
    "for i in range (len(current_feature)):\n",
    "    current_feature[i] = str.lower(str(current_feature[i]))"
   ]
  },
  {
   "cell_type": "code",
   "execution_count": 20,
   "metadata": {},
   "outputs": [
    {
     "data": {
      "text/plain": [
       "['accnowdelinq', 'accopenpast24mths', 'acceptd', 'addrstate', 'addrzip']"
      ]
     },
     "execution_count": 20,
     "metadata": {},
     "output_type": "execute_result"
    }
   ],
   "source": [
    "current_feature[:5]"
   ]
  },
  {
   "cell_type": "code",
   "execution_count": 21,
   "metadata": {
    "collapsed": true
   },
   "outputs": [],
   "source": [
    "his_feature = list(df_2014.columns.values)"
   ]
  },
  {
   "cell_type": "code",
   "execution_count": 22,
   "metadata": {
    "collapsed": true
   },
   "outputs": [],
   "source": [
    "for i in range (len(his_feature)):\n",
    "    his_feature[i] = str(his_feature[i]).replace('_','')"
   ]
  },
  {
   "cell_type": "code",
   "execution_count": 23,
   "metadata": {},
   "outputs": [
    {
     "data": {
      "text/plain": [
       "['id', 'memberid', 'loanamnt', 'fundedamnt', 'fundedamntinv']"
      ]
     },
     "execution_count": 23,
     "metadata": {},
     "output_type": "execute_result"
    }
   ],
   "source": [
    "his_feature[:5]"
   ]
  },
  {
   "cell_type": "code",
   "execution_count": 24,
   "metadata": {},
   "outputs": [
    {
     "name": "stdout",
     "output_type": "stream",
     "text": [
      "87\n",
      "set(['bcopentobuy', 'numactvbctl', 'mthssincelastrecord', 'totcurbal', 'totalbalexmort', 'subgrade', 'mosinrcnttl', 'ficorangelow', 'mortacc', 'mthssincelastdelinq', 'tothicredlim', 'maxbalbc', 'totalrevhilim', 'numtl120dpd2m', 'annualincjoint', 'earliestcrline', 'inqlast12m', 'totalacc', 'desc', 'term', 'installment', 'numrevaccts', 'avgcurbal', 'openil6m', 'addrstate', 'mosinoldilacct', 'annualinc', 'revolutil', 'numsats', 'mthssincerecentbc', 'mthssincercntil', 'openrv24m', 'chargeoffwithin12mths', 'mosinoldrevtlop', 'taxliens', 'openil12m', 'mthssincerecentinq', 'numiltl', 'totalcutl', 'mthssincelastmajorderog', 'initialliststatus', 'grade', 'numbctl', 'numoprevtl', 'numactvrevtl', 'ficorangehigh', 'openil24m', 'totcollamt', 'memberid', 'applicationtype', 'intrate', 'dti', 'mthssincerecentbcdlq', 'homeownership', 'pubrec', 'accopenpast24mths', 'mthssincerecentrevoldelinq', 'bcutil', 'openacc6m', 'totalbalil', 'delinq2yrs', 'inqfi', 'numtl30dpd', 'dtijoint', 'id', 'revolbal', 'inqlast6mths', 'pcttlnvrdlq', 'openrv12m', 'emptitle', 'totalilhighcreditlimit', 'collections12mthsexmed', 'numtl90gdpd24m', 'delinqamnt', 'percentbcgt75', 'numbcsats', 'totalbclimit', 'accnowdelinq', 'purpose', 'emplength', 'ilutil', 'mosinrcntrevtlop', 'allutil', 'openacc', 'numrevtlbalgt0', 'numtloppast12m', 'pubrecbankruptcies'])\n"
     ]
    }
   ],
   "source": [
    "common_feature = set(his_feature)&(set(current_feature))\n",
    "print len(common_feature)\n",
    "print common_feature"
   ]
  },
  {
   "cell_type": "code",
   "execution_count": 25,
   "metadata": {},
   "outputs": [
    {
     "name": "stdout",
     "output_type": "stream",
     "text": [
      "16 set(['expdefaultrate', 'creditpulld', 'isincvjoint', 'ilsexpd', 'reviewstatus', 'loanamount', 'investorcount', 'isincv', 'servicefeerate', 'addrzip', 'numacctsever120ppd', 'reviewstatusd', 'listd', 'fundedamount', 'acceptd', 'expd'])\n",
      "41 set(['fundedamnt', 'lastficorangehigh', 'loanstatus', 'totalpymnt', 'issued', 'secappnumrevaccts', 'secappmthssincelastmajorderog', 'collectionrecoveryfee', 'secappcollections12mthsexmed', 'verificationstatusjoint', 'url', 'secapprevolutil', 'totalreclatefee', 'secappchargeoffwithin12mths', 'lastpymntamnt', 'lastficorangelow', 'title', 'pymntplan', 'totalrecint', 'zipcode', 'revolbaljoint', 'secappopenil6m', 'secappopenacc', 'secappficorangehigh', 'outprncp', 'totalpymntinv', 'secappficorangelow', 'recoveries', 'numacctsever120pd', 'fundedamntinv', 'verificationstatus', 'lastpymntd', 'loanamnt', 'lastcreditpulld', 'totalrecprncp', 'secappearliestcrline', 'secappmortacc', 'outprncpinv', 'policycode', 'nextpymntd', 'secappinqlast6mths'])\n"
     ]
    }
   ],
   "source": [
    "his_unique=set(his_feature)-set(current_feature)\n",
    "current_unique=set(current_feature)-set(his_feature)\n",
    "print len(current_unique), current_unique\n",
    "print len(his_unique), his_unique"
   ]
  },
  {
   "cell_type": "code",
   "execution_count": 26,
   "metadata": {
    "collapsed": true
   },
   "outputs": [],
   "source": [
    "feature_dic={}\n",
    "feature_dic['common_feature']=common_feature\n",
    "feature_dic['his_unique']=his_unique\n",
    "feature_dic['current_unique']=current_unique"
   ]
  },
  {
   "cell_type": "code",
   "execution_count": 27,
   "metadata": {},
   "outputs": [
    {
     "data": {
      "text/plain": [
       "{'acceptd',\n",
       " 'addrzip',\n",
       " 'creditpulld',\n",
       " 'expd',\n",
       " 'expdefaultrate',\n",
       " 'fundedamount',\n",
       " 'ilsexpd',\n",
       " 'investorcount',\n",
       " 'isincv',\n",
       " 'isincvjoint',\n",
       " 'listd',\n",
       " 'loanamount',\n",
       " 'numacctsever120ppd',\n",
       " 'reviewstatus',\n",
       " 'reviewstatusd',\n",
       " 'servicefeerate'}"
      ]
     },
     "execution_count": 27,
     "metadata": {},
     "output_type": "execute_result"
    }
   ],
   "source": [
    "feature_dic['current_unique']"
   ]
  },
  {
   "cell_type": "code",
   "execution_count": 28,
   "metadata": {},
   "outputs": [
    {
     "data": {
      "text/plain": [
       "{'collectionrecoveryfee',\n",
       " 'fundedamnt',\n",
       " 'fundedamntinv',\n",
       " 'issued',\n",
       " 'lastcreditpulld',\n",
       " 'lastficorangehigh',\n",
       " 'lastficorangelow',\n",
       " 'lastpymntamnt',\n",
       " 'lastpymntd',\n",
       " 'loanamnt',\n",
       " 'loanstatus',\n",
       " 'nextpymntd',\n",
       " 'numacctsever120pd',\n",
       " 'outprncp',\n",
       " 'outprncpinv',\n",
       " 'policycode',\n",
       " 'pymntplan',\n",
       " 'recoveries',\n",
       " 'revolbaljoint',\n",
       " 'secappchargeoffwithin12mths',\n",
       " 'secappcollections12mthsexmed',\n",
       " 'secappearliestcrline',\n",
       " 'secappficorangehigh',\n",
       " 'secappficorangelow',\n",
       " 'secappinqlast6mths',\n",
       " 'secappmortacc',\n",
       " 'secappmthssincelastmajorderog',\n",
       " 'secappnumrevaccts',\n",
       " 'secappopenacc',\n",
       " 'secappopenil6m',\n",
       " 'secapprevolutil',\n",
       " 'title',\n",
       " 'totalpymnt',\n",
       " 'totalpymntinv',\n",
       " 'totalrecint',\n",
       " 'totalreclatefee',\n",
       " 'totalrecprncp',\n",
       " 'url',\n",
       " 'verificationstatus',\n",
       " 'verificationstatusjoint',\n",
       " 'zipcode'}"
      ]
     },
     "execution_count": 28,
     "metadata": {},
     "output_type": "execute_result"
    }
   ],
   "source": [
    "feature_dic['his_unique']"
   ]
  },
  {
   "cell_type": "code",
   "execution_count": 29,
   "metadata": {},
   "outputs": [
    {
     "data": {
      "text/plain": [
       "{'accnowdelinq',\n",
       " 'accopenpast24mths',\n",
       " 'addrstate',\n",
       " 'allutil',\n",
       " 'annualinc',\n",
       " 'annualincjoint',\n",
       " 'applicationtype',\n",
       " 'avgcurbal',\n",
       " 'bcopentobuy',\n",
       " 'bcutil',\n",
       " 'chargeoffwithin12mths',\n",
       " 'collections12mthsexmed',\n",
       " 'delinq2yrs',\n",
       " 'delinqamnt',\n",
       " 'desc',\n",
       " 'dti',\n",
       " 'dtijoint',\n",
       " 'earliestcrline',\n",
       " 'emplength',\n",
       " 'emptitle',\n",
       " 'ficorangehigh',\n",
       " 'ficorangelow',\n",
       " 'grade',\n",
       " 'homeownership',\n",
       " 'id',\n",
       " 'ilutil',\n",
       " 'initialliststatus',\n",
       " 'inqfi',\n",
       " 'inqlast12m',\n",
       " 'inqlast6mths',\n",
       " 'installment',\n",
       " 'intrate',\n",
       " 'maxbalbc',\n",
       " 'memberid',\n",
       " 'mortacc',\n",
       " 'mosinoldilacct',\n",
       " 'mosinoldrevtlop',\n",
       " 'mosinrcntrevtlop',\n",
       " 'mosinrcnttl',\n",
       " 'mthssincelastdelinq',\n",
       " 'mthssincelastmajorderog',\n",
       " 'mthssincelastrecord',\n",
       " 'mthssincercntil',\n",
       " 'mthssincerecentbc',\n",
       " 'mthssincerecentbcdlq',\n",
       " 'mthssincerecentinq',\n",
       " 'mthssincerecentrevoldelinq',\n",
       " 'numactvbctl',\n",
       " 'numactvrevtl',\n",
       " 'numbcsats',\n",
       " 'numbctl',\n",
       " 'numiltl',\n",
       " 'numoprevtl',\n",
       " 'numrevaccts',\n",
       " 'numrevtlbalgt0',\n",
       " 'numsats',\n",
       " 'numtl120dpd2m',\n",
       " 'numtl30dpd',\n",
       " 'numtl90gdpd24m',\n",
       " 'numtloppast12m',\n",
       " 'openacc',\n",
       " 'openacc6m',\n",
       " 'openil12m',\n",
       " 'openil24m',\n",
       " 'openil6m',\n",
       " 'openrv12m',\n",
       " 'openrv24m',\n",
       " 'pcttlnvrdlq',\n",
       " 'percentbcgt75',\n",
       " 'pubrec',\n",
       " 'pubrecbankruptcies',\n",
       " 'purpose',\n",
       " 'revolbal',\n",
       " 'revolutil',\n",
       " 'subgrade',\n",
       " 'taxliens',\n",
       " 'term',\n",
       " 'totalacc',\n",
       " 'totalbalexmort',\n",
       " 'totalbalil',\n",
       " 'totalbclimit',\n",
       " 'totalcutl',\n",
       " 'totalilhighcreditlimit',\n",
       " 'totalrevhilim',\n",
       " 'totcollamt',\n",
       " 'totcurbal',\n",
       " 'tothicredlim'}"
      ]
     },
     "execution_count": 29,
     "metadata": {},
     "output_type": "execute_result"
    }
   ],
   "source": [
    "feature_dic['common_feature']"
   ]
  },
  {
   "cell_type": "code",
   "execution_count": 30,
   "metadata": {},
   "outputs": [
    {
     "data": {
      "text/plain": [
       "93"
      ]
     },
     "execution_count": 30,
     "metadata": {},
     "output_type": "execute_result"
    }
   ],
   "source": [
    "# add common features that have different names for current and historical data. Use the form in the historical data)\n",
    "\n",
    "common_feature=common_feature.union({'zipcode', \n",
    " 'fundedamnt',\n",
    " 'verificationstatus',\n",
    " 'verificationstatusjoint',\n",
    " 'loanamnt',\n",
    " 'numacctsever120pd'})\n",
    "len(common_feature)"
   ]
  },
  {
   "cell_type": "markdown",
   "metadata": {},
   "source": [
    "### Convert column names in the data frame and save dataframe with common features and issued, loanstatus"
   ]
  },
  {
   "cell_type": "code",
   "execution_count": 31,
   "metadata": {
    "collapsed": true
   },
   "outputs": [],
   "source": [
    "for col in df_2014.columns.values:\n",
    "    df_2014.rename(columns={str(col):str(col).replace('_','')}, inplace=True)\n"
   ]
  },
  {
   "cell_type": "code",
   "execution_count": 32,
   "metadata": {
    "collapsed": true
   },
   "outputs": [],
   "source": [
    "df_2014_1=df_2014[list(common_feature)+['issued', 'loanstatus']]"
   ]
  },
  {
   "cell_type": "code",
   "execution_count": 33,
   "metadata": {},
   "outputs": [
    {
     "data": {
      "text/plain": [
       "(235631, 95)"
      ]
     },
     "execution_count": 33,
     "metadata": {},
     "output_type": "execute_result"
    }
   ],
   "source": [
    "df_2014_1.shape"
   ]
  },
  {
   "cell_type": "code",
   "execution_count": 34,
   "metadata": {
    "collapsed": true
   },
   "outputs": [],
   "source": [
    "df_2014_1.to_csv('loan_2014.csv',index=False)"
   ]
  },
  {
   "cell_type": "code",
   "execution_count": 35,
   "metadata": {},
   "outputs": [
    {
     "name": "stderr",
     "output_type": "stream",
     "text": [
      "C:\\Users\\Weiqun\\Anaconda2\\lib\\site-packages\\IPython\\core\\interactiveshell.py:2723: DtypeWarning: Columns (29,55) have mixed types. Specify dtype option on import or set low_memory=False.\n",
      "  interactivity=interactivity, compiler=compiler, result=result)\n"
     ]
    }
   ],
   "source": [
    "df=pd.read_csv('loan_2014.csv')"
   ]
  },
  {
   "cell_type": "code",
   "execution_count": null,
   "metadata": {
    "collapsed": true
   },
   "outputs": [],
   "source": []
  },
  {
   "cell_type": "markdown",
   "metadata": {},
   "source": [
    "## provided data changed "
   ]
  },
  {
   "cell_type": "code",
   "execution_count": 36,
   "metadata": {
    "collapsed": true
   },
   "outputs": [],
   "source": [
    "df_2014_2 = pd.read_csv('LoanStats3c.csv', skiprows=1)"
   ]
  },
  {
   "cell_type": "code",
   "execution_count": 37,
   "metadata": {},
   "outputs": [
    {
     "data": {
      "text/plain": [
       "(235631, 111)"
      ]
     },
     "execution_count": 37,
     "metadata": {},
     "output_type": "execute_result"
    }
   ],
   "source": [
    "# previously downloaded 2014 data has 111 columns\n",
    "\n",
    "df_2014_2.shape"
   ]
  },
  {
   "cell_type": "markdown",
   "metadata": {},
   "source": [
    "## current feature listd, acceptd"
   ]
  },
  {
   "cell_type": "code",
   "execution_count": 38,
   "metadata": {},
   "outputs": [
    {
     "data": {
      "text/plain": [
       "Index([u'accNowDelinq', u'accOpenPast24Mths', u'acceptD', u'addrState',\n",
       "       u'addrZip', u'allUtil', u'annualInc', u'annualIncJoint',\n",
       "       u'applicationType', u'avgCurBal',\n",
       "       ...\n",
       "       u'totCollAmt', u'totCurBal', u'totHiCredLim', u'totalAcc',\n",
       "       u'totalBalExMort', u'totalBalIl', u'totalBcLimit', u'totalCuTl',\n",
       "       u'totalIlHighCreditLimit', u'totalRevHiLim'],\n",
       "      dtype='object', length=103)"
      ]
     },
     "execution_count": 38,
     "metadata": {},
     "output_type": "execute_result"
    }
   ],
   "source": [
    "df_current.columns"
   ]
  },
  {
   "cell_type": "code",
   "execution_count": 39,
   "metadata": {},
   "outputs": [
    {
     "data": {
      "text/html": [
       "<div>\n",
       "<table border=\"1\" class=\"dataframe\">\n",
       "  <thead>\n",
       "    <tr style=\"text-align: right;\">\n",
       "      <th></th>\n",
       "      <th>listD</th>\n",
       "      <th>acceptD</th>\n",
       "    </tr>\n",
       "  </thead>\n",
       "  <tbody>\n",
       "    <tr>\n",
       "      <th>0</th>\n",
       "      <td>2017-06-19T14:00:00.000-07:00</td>\n",
       "      <td>2017-05-23T04:26:46.000-07:00</td>\n",
       "    </tr>\n",
       "    <tr>\n",
       "      <th>1</th>\n",
       "      <td>2017-06-19T14:00:00.000-07:00</td>\n",
       "      <td>2017-05-24T10:29:16.000-07:00</td>\n",
       "    </tr>\n",
       "    <tr>\n",
       "      <th>2</th>\n",
       "      <td>2017-06-19T14:00:00.000-07:00</td>\n",
       "      <td>2017-05-25T08:38:21.000-07:00</td>\n",
       "    </tr>\n",
       "    <tr>\n",
       "      <th>3</th>\n",
       "      <td>2017-06-19T14:00:00.000-07:00</td>\n",
       "      <td>2017-06-05T19:47:45.000-07:00</td>\n",
       "    </tr>\n",
       "  </tbody>\n",
       "</table>\n",
       "</div>"
      ],
      "text/plain": [
       "                           listD                        acceptD\n",
       "0  2017-06-19T14:00:00.000-07:00  2017-05-23T04:26:46.000-07:00\n",
       "1  2017-06-19T14:00:00.000-07:00  2017-05-24T10:29:16.000-07:00\n",
       "2  2017-06-19T14:00:00.000-07:00  2017-05-25T08:38:21.000-07:00\n",
       "3  2017-06-19T14:00:00.000-07:00  2017-06-05T19:47:45.000-07:00"
      ]
     },
     "execution_count": 39,
     "metadata": {},
     "output_type": "execute_result"
    }
   ],
   "source": [
    "df_current[['listD','acceptD']][:10]"
   ]
  },
  {
   "cell_type": "code",
   "execution_count": null,
   "metadata": {
    "collapsed": true
   },
   "outputs": [],
   "source": []
  },
  {
   "cell_type": "code",
   "execution_count": null,
   "metadata": {
    "collapsed": true
   },
   "outputs": [],
   "source": []
  }
 ],
 "metadata": {
  "anaconda-cloud": {},
  "celltoolbar": "Raw Cell Format",
  "kernelspec": {
   "display_name": "Python 3",
   "language": "python",
   "name": "python3"
  },
  "language_info": {
   "codemirror_mode": {
    "name": "ipython",
    "version": 3
   },
   "file_extension": ".py",
   "mimetype": "text/x-python",
   "name": "python",
   "nbconvert_exporter": "python",
   "pygments_lexer": "ipython3",
   "version": "3.6.3"
  },
  "toc": {
   "nav_menu": {},
   "number_sections": true,
   "sideBar": true,
   "skip_h1_title": false,
   "toc_cell": false,
   "toc_position": {},
   "toc_section_display": "block",
   "toc_window_display": false
  }
 },
 "nbformat": 4,
 "nbformat_minor": 1
}
